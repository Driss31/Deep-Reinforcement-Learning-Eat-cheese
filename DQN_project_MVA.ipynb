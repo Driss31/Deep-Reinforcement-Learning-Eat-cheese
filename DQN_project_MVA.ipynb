{
 "cells": [
  {
   "cell_type": "markdown",
   "metadata": {},
   "source": [
    "**You may need to install [OpenCV](https://pypi.python.org/pypi/opencv-python) and [scikit-video](http://www.scikit-video.org/stable/).**"
   ]
  },
  {
   "cell_type": "code",
   "execution_count": 1,
   "metadata": {},
   "outputs": [
    {
     "name": "stderr",
     "output_type": "stream",
     "text": [
      "C:\\Users\\Driss Debbagh\\Anaconda3\\lib\\site-packages\\h5py\\__init__.py:72: UserWarning: h5py is running against HDF5 1.10.2 when it was built against 1.10.3, this may cause problems\n",
      "  '{0}.{1}.{2}'.format(*version.hdf5_built_version_tuple)\n",
      "Using TensorFlow backend.\n"
     ]
    }
   ],
   "source": [
    "import keras\n",
    "import numpy as np\n",
    "import io\n",
    "import base64\n",
    "from IPython.display import HTML\n",
    "import skvideo.io\n",
    "import cv2\n",
    "import json\n",
    "\n",
    "from keras.models import Sequential,model_from_json\n",
    "from keras.layers.core import Dense\n",
    "from keras.optimizers import sgd\n",
    "from keras.layers import Flatten, Conv2D, MaxPooling2D, Activation, AveragePooling2D, Reshape, BatchNormalization"
   ]
  },
  {
   "cell_type": "markdown",
   "metadata": {},
   "source": [
    "# MiniProject #3: Deep Reinforcement Learning"
   ]
  },
  {
   "cell_type": "markdown",
   "metadata": {},
   "source": [
    "__Notations__: $E_p$ is the expectation under probability $p$. Please justify each of your answer and widely comment your code."
   ]
  },
  {
   "cell_type": "markdown",
   "metadata": {},
   "source": [
    "# Context"
   ]
  },
  {
   "cell_type": "markdown",
   "metadata": {},
   "source": [
    "In a reinforcement learning algorithm, we modelize each step $t$ as an action $a_t$ obtained from a state $s_t$, i.e. $\\{(a_{t},s_{t})_{t\\leq T}\\}$ having the Markov property. We consider a discount factor $\\gamma \\in [0,1]$ that ensures convergence. The goal is to find among all the policies $\\pi$, one that maximizes the expected reward:\n",
    "\n",
    "\\begin{equation*}\n",
    "R(\\pi)=\\sum_{t\\leq T}E_{p^{\\pi}}[\\gamma^t r(s_{t},a_{t})] \\> ,\n",
    "\\end{equation*}\n",
    "\n",
    "where: \n",
    "\\begin{equation*}p^{\\pi}(a_{0},a_{1},s_{1},...,a_{T},s_{T})=p(a_{0})\\prod_{t=1}^{T}\\pi(a_{t}|s_{t})p(s_{t+1}|s_{t},a_{t}) \\> .\n",
    "\\end{equation*}\n",
    "\n",
    "We note the $Q$-function:\n",
    "\n",
    "\\begin{equation*}Q^\\pi(s,a)=E_{p^{\\pi}}[\\sum_{t\\leq T}\\gamma^{t}r(s_{t},a_{t})|s_{0}=s,a_{0}=a] \\> .\n",
    "\\end{equation*}\n",
    "\n",
    "Thus, the optimal Q function is:\n",
    "\\begin{equation*}\n",
    "Q^*(s,a)=\\max_{\\pi}Q^\\pi(s,a) \\> .\n",
    "\\end{equation*}\n",
    "\n",
    "In this project, we will apply the deep reinforcement learning techniques to a simple game: an agent will have to learn from scratch a policy that will permit it maximizing a reward."
   ]
  },
  {
   "cell_type": "markdown",
   "metadata": {},
   "source": [
    "## The environment, the agent and the game"
   ]
  },
  {
   "cell_type": "markdown",
   "metadata": {},
   "source": [
    "### The environment"
   ]
  },
  {
   "cell_type": "markdown",
   "metadata": {},
   "source": [
    "```Environment``` is an abstract class that represents the states, rewards, and actions to obtain the new state."
   ]
  },
  {
   "cell_type": "code",
   "execution_count": 2,
   "metadata": {},
   "outputs": [],
   "source": [
    "class Environment(object):\n",
    "    def __init__(self):\n",
    "        pass\n",
    "\n",
    "    def act(self, act):\n",
    "        \"\"\"\n",
    "        One can act on the environment and obtain its reaction:\n",
    "        - the new state\n",
    "        - the reward of the new state\n",
    "        - should we continue the game?\n",
    "\n",
    "        :return: state, reward, game_over\n",
    "        \"\"\"\n",
    "        pass\n",
    "\n",
    "\n",
    "    def reset(self):\n",
    "        \"\"\"\n",
    "        Reinitialize the environment to a random state and returns\n",
    "        the original state\n",
    "\n",
    "        :return: state\n",
    "        \"\"\"\n",
    "        pass\n",
    "    \n",
    "    def draw(self):\n",
    "        \"\"\"\n",
    "        Visualize in the console or graphically the current state\n",
    "        \"\"\"\n",
    "        pass"
   ]
  },
  {
   "cell_type": "markdown",
   "metadata": {},
   "source": [
    "The method ```act``` allows to act on the environment at a given state $s_t$ (stored internally), via action $a_t$. The method will return the new state $s_{t+1}$, the reward $r(s_{t},a_{t})$ and determines if $t\\leq T$ (*game_over*).\n",
    "\n",
    "The method ```reset``` simply reinitializes the environment to a random state $s_0$.\n",
    "\n",
    "The method ```draw``` displays the current state $s_t$ (this is useful to check the behavior of the Agent).\n",
    "\n",
    "We modelize $s_t$ as a tensor, while $a_t$ is an integer."
   ]
  },
  {
   "cell_type": "markdown",
   "metadata": {},
   "source": [
    "### The Agent"
   ]
  },
  {
   "cell_type": "markdown",
   "metadata": {},
   "source": [
    "The goal of the ```Agent``` is to interact with the ```Environment``` by proposing actions $a_t$ obtained from a given state $s_t$ to attempt to maximize its __reward__ $r(s_t,a_t)$. We propose the following abstract class:"
   ]
  },
  {
   "cell_type": "code",
   "execution_count": 3,
   "metadata": {},
   "outputs": [],
   "source": [
    "class Agent(object):\n",
    "    def __init__(self, epsilon=0.1, n_action=4):\n",
    "        self.epsilon = epsilon\n",
    "        self.n_action = n_action\n",
    "    \n",
    "    def set_epsilon(self, e):\n",
    "        self.epsilon = e\n",
    "\n",
    "    def act(self,s,train=True):\n",
    "        \"\"\" This function should return the next action to do:\n",
    "        an integer between 0 and 4 (not included) with a random exploration of epsilon\"\"\"\n",
    "        if train:\n",
    "            if np.random.rand() <= self.epsilon:\n",
    "                a = np.random.randint(0, self.n_action, size=1)[0]\n",
    "            else:\n",
    "                a = self.learned_act(s)\n",
    "        else: # in some cases, this can improve the performance.. remove it if poor performances\n",
    "            a = self.learned_act(s)\n",
    "\n",
    "        return a\n",
    "\n",
    "    def learned_act(self,s):\n",
    "        \"\"\" Act via the policy of the agent, from a given state s\n",
    "        it proposes an action a\"\"\"\n",
    "        pass\n",
    "\n",
    "    def reinforce(self, s, n_s, a, r, game_over_):\n",
    "        \"\"\" This function is the core of the learning algorithm. \n",
    "        It takes as an input the current state s_, the next state n_s_\n",
    "        the action a_ used to move from s_ to n_s_ and the reward r_.\n",
    "        \n",
    "        Its goal is to learn a policy.\n",
    "        \"\"\"\n",
    "        pass\n",
    "\n",
    "    def save(self):\n",
    "        \"\"\" This function returns basic stats if applicable: the\n",
    "        loss and/or the model\"\"\"\n",
    "        pass\n",
    "\n",
    "    def load(self):\n",
    "        \"\"\" This function allows to restore a model\"\"\"\n",
    "        pass"
   ]
  },
  {
   "cell_type": "markdown",
   "metadata": {},
   "source": [
    "***\n",
    "__Question 1__:\n",
    "Explain the function act. Why is ```epsilon``` essential?"
   ]
  },
  {
   "cell_type": "markdown",
   "metadata": {},
   "source": [
    "> The function **act** return which action to make for the next step. The actions are integers from 0 to 'n_action'. The action is chosen in two different ways: randomly or using the learned actions. We have **epsilon %** of chosing a random action and **1 - epsilon %** chosing an action based on the learned one.\n",
    "\n",
    "> Epsilon is essential because its value can make big differences on the actions that are made. Indeed a an epsilon value of 0 implies actions that are only learned, unlike when its value is 1 and all the actions are made randomly.\n",
    "Here is an example to explain why it's important to consider a value >0 of epsilon:\n",
    "Imagine a situation with two possible actions and two possible states:\n",
    "- action 1 with probability 1 and reward of 1\n",
    "- action 2 with probability 1/2 and reward of 3\n",
    "\n",
    "> Let's consider now that we took the value 0 for epsilon. \n",
    "If in the first time we choose action 2, we obtain a reward of 0 then after that we will always choose action 1. The mean reward will be of 1 instead of 1.5 if we have always chosen action 2."
   ]
  },
  {
   "cell_type": "markdown",
   "metadata": {},
   "source": [
    "***\n",
    "### The Game"
   ]
  },
  {
   "cell_type": "markdown",
   "metadata": {},
   "source": [
    "The ```Agent``` and the ```Environment``` work in an interlaced way as in the following (take some time to understand this code as it is the core of the project)\n",
    "\n",
    "```python\n",
    "\n",
    "epoch = 300\n",
    "env = Environment()\n",
    "agent = Agent()\n",
    "\n",
    "\n",
    "# Number of won games\n",
    "score = 0\n",
    "loss = 0\n",
    "\n",
    "\n",
    "for e in range(epoch):\n",
    "    # At each epoch, we restart to a fresh game and get the initial state\n",
    "    state = env.reset()\n",
    "    # This assumes that the games will end\n",
    "    game_over = False\n",
    "\n",
    "    win = 0\n",
    "    lose = 0\n",
    "    \n",
    "    while not game_over:\n",
    "        # The agent performs an action\n",
    "        action = agent.act(state)\n",
    "\n",
    "        # Apply an action to the environment, get the next state, the reward\n",
    "        # and if the games end\n",
    "        prev_state = state\n",
    "        state, reward, game_over = env.act(action)\n",
    "\n",
    "        # Update the counters\n",
    "        if reward > 0:\n",
    "            win = win + reward\n",
    "        if reward < 0:\n",
    "            lose = lose -reward\n",
    "\n",
    "        # Apply the reinforcement strategy\n",
    "        loss = agent.reinforce(prev_state, state,  action, reward, game_over)\n",
    "\n",
    "    # Save as a mp4\n",
    "    if e % 10 == 0:\n",
    "        env.draw(e)\n",
    "\n",
    "    # Update stats\n",
    "    score += win-lose\n",
    "\n",
    "    print(\"Epoch {:03d}/{:03d} | Loss {:.4f} | Win/lose count {}/{} ({})\"\n",
    "          .format(e, epoch, loss, win, lose, win-lose))\n",
    "    agent.save()\n",
    "```"
   ]
  },
  {
   "cell_type": "markdown",
   "metadata": {},
   "source": [
    "# The game, *eat cheese*"
   ]
  },
  {
   "cell_type": "markdown",
   "metadata": {},
   "source": [
    "A rat runs on an island and tries to eat as much as possible. The island is subdivided into $N\\times N$ cells, in which there are cheese (+0.5) and poisonous cells (-1). The rat has a visibility of 2 cells (thus it can see $5^2$ cells). The rat is given a time $T$ to accumulate as much food as possible. It can perform 4 actions: going up, down, left, right. \n",
    "\n",
    "The goal is to code an agent to solve this task that will learn by trial and error. We propose the following environment:"
   ]
  },
  {
   "cell_type": "code",
   "execution_count": 4,
   "metadata": {},
   "outputs": [],
   "source": [
    "class Environment(object):\n",
    "    def __init__(self, grid_size=10, max_time=500, temperature=0.1):\n",
    "        grid_size = grid_size+4\n",
    "        self.grid_size = grid_size\n",
    "        self.max_time = max_time\n",
    "        self.temperature = temperature\n",
    "\n",
    "        #board on which one plays\n",
    "        self.board = np.zeros((grid_size,grid_size))\n",
    "        self.position = np.zeros((grid_size,grid_size))\n",
    "\n",
    "        # coordinate of the cat\n",
    "        self.x = 0\n",
    "        self.y = 1\n",
    "\n",
    "        # self time\n",
    "        self.t = 0\n",
    "\n",
    "        self.scale=16\n",
    "\n",
    "        self.to_draw = np.zeros((max_time+2, grid_size*self.scale, grid_size*self.scale, 3))\n",
    "\n",
    "\n",
    "    def draw(self,e):\n",
    "        skvideo.io.vwrite(str(e) + '.mp4', self.to_draw)\n",
    "\n",
    "    def get_frame(self,t):\n",
    "        b = np.zeros((self.grid_size,self.grid_size,3))+128\n",
    "        b[self.board>0,0] = 256\n",
    "        b[self.board < 0, 2] = 256\n",
    "        b[self.x,self.y,:]=256\n",
    "        b[-2:,:,:]=0\n",
    "        b[:,-2:,:]=0\n",
    "        b[:2,:,:]=0\n",
    "        b[:,:2,:]=0\n",
    "        \n",
    "        b =  cv2.resize(b, None, fx=self.scale, fy=self.scale, interpolation=cv2.INTER_NEAREST)\n",
    "\n",
    "        self.to_draw[t,:,:,:]=b\n",
    "\n",
    "\n",
    "    def act(self, action):\n",
    "        \"\"\"This function returns the new state, reward and decides if the\n",
    "        game ends.\"\"\"\n",
    "\n",
    "        self.get_frame(int(self.t))\n",
    "\n",
    "        self.position = np.zeros((self.grid_size, self.grid_size))\n",
    "\n",
    "        self.position[0:2,:]= -1\n",
    "        self.position[:,0:2] = -1\n",
    "        self.position[-2:, :] = -1\n",
    "        self.position[-2:, :] = -1\n",
    "\n",
    "        self.position[self.x, self.y] = 1\n",
    "        if action == 0:\n",
    "            if self.x == self.grid_size-3:\n",
    "                self.x = self.x-1\n",
    "            else:\n",
    "                self.x = self.x + 1\n",
    "        elif action == 1:\n",
    "            if self.x == 2:\n",
    "                self.x = self.x+1\n",
    "            else:\n",
    "                self.x = self.x-1\n",
    "                \n",
    "        elif action == 2:\n",
    "            if self.y == self.grid_size - 3:\n",
    "                self.y = self.y - 1\n",
    "            else:\n",
    "                self.y = self.y + 1\n",
    "        elif action == 3:\n",
    "            if self.y == 2:\n",
    "                self.y = self.y + 1\n",
    "            else:\n",
    "                self.y = self.y - 1\n",
    "        else:\n",
    "            RuntimeError('Error: action not recognized')\n",
    "\n",
    "        self.t = self.t + 1\n",
    "        reward = self.board[self.x, self.y]\n",
    "        self.board[self.x, self.y] = 0\n",
    "        game_over = self.t > self.max_time\n",
    "        state = np.concatenate((self.board.reshape(self.grid_size, self.grid_size,1),\n",
    "                        self.position.reshape(self.grid_size, self.grid_size,1)),axis=2)\n",
    "        state = state[self.x-2:self.x+3,self.y-2:self.y+3,:]\n",
    "\n",
    "        return state, reward, game_over\n",
    "\n",
    "    def reset(self):\n",
    "        \"\"\"This function resets the game and returns the initial state\"\"\"\n",
    "\n",
    "        self.x = np.random.randint(3, self.grid_size-3, size=1)[0]\n",
    "        self.y = np.random.randint(3, self.grid_size-3, size=1)[0]\n",
    "\n",
    "\n",
    "        bonus = 0.5*np.random.binomial(1,self.temperature,size=self.grid_size**2)\n",
    "        bonus = bonus.reshape(self.grid_size,self.grid_size)\n",
    "\n",
    "        malus = -1.0*np.random.binomial(1,self.temperature,size=self.grid_size**2)\n",
    "        malus = malus.reshape(self.grid_size, self.grid_size)\n",
    "\n",
    "        self.to_draw = np.zeros((self.max_time+2, self.grid_size*self.scale, self.grid_size*self.scale, 3))\n",
    "\n",
    "\n",
    "        malus[bonus>0]=0\n",
    "\n",
    "        self.board = bonus + malus\n",
    "\n",
    "        self.position = np.zeros((self.grid_size, self.grid_size))\n",
    "        self.position[0:2,:]= -1\n",
    "        self.position[:,0:2] = -1\n",
    "        self.position[-2:, :] = -1\n",
    "        self.position[-2:, :] = -1\n",
    "        self.board[self.x,self.y] = 0\n",
    "        self.t = 0\n",
    "\n",
    "        state = np.concatenate((\n",
    "                               self.board.reshape(self.grid_size, self.grid_size,1),\n",
    "                        self.position.reshape(self.grid_size, self.grid_size,1)),axis=2)\n",
    "\n",
    "        state = state[self.x - 2:self.x + 3, self.y - 2:self.y + 3, :]\n",
    "        return state"
   ]
  },
  {
   "cell_type": "markdown",
   "metadata": {},
   "source": [
    "The following elements are important because they correspond to the hyper parameters for this project:"
   ]
  },
  {
   "cell_type": "code",
   "execution_count": 55,
   "metadata": {},
   "outputs": [],
   "source": [
    "# parameters\n",
    "size = 13\n",
    "T=200\n",
    "temperature=0.3\n",
    "epochs_train=51 # set small when debugging\n",
    "epochs_test=51 # set small when debugging\n",
    "\n",
    "# display videos\n",
    "def display_videos(name):\n",
    "    video = io.open(name, 'r+b').read()\n",
    "    encoded = base64.b64encode(video)\n",
    "    return '''<video alt=\"test\" controls>\n",
    "                <source src=\"data:video/mp4;base64,{0}\" type=\"video/mp4\" />\n",
    "             </video>'''.format(encoded.decode('ascii'))"
   ]
  },
  {
   "cell_type": "markdown",
   "metadata": {},
   "source": [
    "__Question 2__ Explain the use of the arrays ```position``` and ```board```."
   ]
  },
  {
   "cell_type": "markdown",
   "metadata": {},
   "source": [
    "- Array position:\n",
    "> This matrix contains the position of the rat and the positions where he can or can not go (respectively 1, 0, -1). \n",
    "\n",
    "- Array board\n",
    "> This matrix contains the rewards on each position (-1 poison, 0.5 cheese, 0 nothing). And whenever the rat goes to a position the board takes the value 0 (meaning that the rat took already the cheese or the poison)"
   ]
  },
  {
   "cell_type": "markdown",
   "metadata": {},
   "source": [
    "## Random Agent"
   ]
  },
  {
   "cell_type": "markdown",
   "metadata": {},
   "source": [
    "***\n",
    "__Question 3__ Implement a random Agent (only ```learned_act``` needs to be implemented):"
   ]
  },
  {
   "cell_type": "code",
   "execution_count": 6,
   "metadata": {},
   "outputs": [],
   "source": [
    "class RandomAgent(Agent):\n",
    "    def __init__(self):\n",
    "        super(RandomAgent, self).__init__()\n",
    "        pass\n",
    "\n",
    "    def learned_act(self, s):\n",
    "        random_action = np.random.randint(0, self.n_action, size=1)[0]\n",
    "        return random_action"
   ]
  },
  {
   "cell_type": "markdown",
   "metadata": {},
   "source": [
    "***\n",
    "***\n",
    "__Question 4__ Visualize the game moves. You need to fill in the following function for the evaluation:"
   ]
  },
  {
   "cell_type": "code",
   "execution_count": 9,
   "metadata": {},
   "outputs": [],
   "source": [
    "def test(agent, env, epochs, prefix=''):\n",
    "    # Number of won games\n",
    "    score = 0\n",
    "        \n",
    "    for e in range(epochs):\n",
    "\n",
    "        # At each epoch, we restart to a fresh game and get the initial state\n",
    "        state = env.reset()\n",
    "        # This assumes that the games will end\n",
    "        game_over = False\n",
    "\n",
    "        win = 0\n",
    "        lose = 0\n",
    "\n",
    "        while not game_over:\n",
    "            # The agent performs an action\n",
    "            action = agent.act(state)\n",
    "\n",
    "            # Apply an action to the environment, get the next state, the reward\n",
    "            # and if the games end\n",
    "            prev_state = state\n",
    "            state, reward, game_over = env.act(action)\n",
    "\n",
    "            # Update the counters\n",
    "            if reward > 0:\n",
    "                win = win + reward\n",
    "            if reward < 0:\n",
    "                lose = lose -reward\n",
    "\n",
    "            # Apply the reinforcement strategy\n",
    "            loss = agent.reinforce(prev_state, state,  action, reward, game_over)\n",
    "\n",
    "        # Save as a mp4\n",
    "        env.draw(prefix + str(e))\n",
    "\n",
    "        # Update stats\n",
    "        score = score + win-lose\n",
    "\n",
    "#         print(\"Win/lose count {}/{}. Average score ({})\"\n",
    "#               .format(win, lose, score/(1+e)))\n",
    "    print('Final score: '+str(score/epochs))\n",
    "    return score/epochs\n",
    "    "
   ]
  },
  {
   "cell_type": "code",
   "execution_count": 10,
   "metadata": {},
   "outputs": [
    {
     "name": "stdout",
     "output_type": "stream",
     "text": [
      "Win/lose count 13.0/10.0. Average score (3.0)\n",
      "Win/lose count 16.0/17.0. Average score (1.0)\n",
      "Win/lose count 11.0/14.0. Average score (-0.3333333333333333)\n",
      "Win/lose count 7.5/12.0. Average score (-1.375)\n",
      "Win/lose count 12.0/12.0. Average score (-1.1)\n",
      "Win/lose count 14.5/23.0. Average score (-2.3333333333333335)\n",
      "Win/lose count 11.5/25.0. Average score (-3.9285714285714284)\n",
      "Win/lose count 11.5/13.0. Average score (-3.625)\n",
      "Win/lose count 10.0/22.0. Average score (-4.555555555555555)\n",
      "Win/lose count 14.0/12.0. Average score (-3.9)\n",
      "Win/lose count 6.5/8.0. Average score (-3.6818181818181817)\n",
      "Final score: -3.6818181818181817\n"
     ]
    },
    {
     "data": {
      "text/plain": [
       "-3.6818181818181817"
      ]
     },
     "execution_count": 10,
     "metadata": {},
     "output_type": "execute_result"
    }
   ],
   "source": [
    "# Initialize the game\n",
    "env = Environment(grid_size=size, max_time=T, temperature=temperature)\n",
    "\n",
    "# Initialize the agent!\n",
    "agent = RandomAgent()\n",
    "\n",
    "test(agent,env,epochs_test, prefix='Random/random')"
   ]
  },
  {
   "cell_type": "code",
   "execution_count": 11,
   "metadata": {},
   "outputs": [
    {
     "data": {
      "text/html": [
       "<video alt=\"test\" controls>\n",
       "                <source src=\"data:video/mp4;base64,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\" type=\"video/mp4\" />\n",
       "             </video>"
      ],
      "text/plain": [
       "<IPython.core.display.HTML object>"
      ]
     },
     "execution_count": 11,
     "metadata": {},
     "output_type": "execute_result"
    }
   ],
   "source": [
    "HTML(display_videos('Random/random50.mp4'))"
   ]
  },
  {
   "cell_type": "markdown",
   "metadata": {},
   "source": [
    "***\n",
    "## DQN"
   ]
  },
  {
   "cell_type": "markdown",
   "metadata": {},
   "source": [
    "Let us assume here that $T=\\infty$.\n",
    "\n",
    "***\n",
    "__Question 5__ Let $\\pi$ be a policy, show that:\n",
    "\n",
    "\\begin{equation*}\n",
    "Q^{\\pi}(s,a)=E_{(s',a')\\sim p(.|s,a)}[r(s,a)+\\gamma Q^{\\pi}(s',a')]\n",
    "\\end{equation*}\n",
    "\n",
    "Then, show that for the optimal policy $\\pi^*$ (we assume its existence), the following holds: \n",
    "\n",
    "\\begin{equation*}\n",
    "Q^{*}(s,a)=E_{s'\\sim \\pi^*(.|s,a)}[r(s,a)+\\gamma\\max_{a'}Q^{*}(s',a')].\n",
    "\\end{equation*}\n",
    "Finally, deduce that a plausible objective is:\n",
    "\n",
    "\\begin{equation*}\n",
    "\\mathcal{L}(\\theta)=E_{s' \\sim \\pi^*(.|s,a)}\\Vert r+\\gamma\\max\\max_{a'}Q(s',a',\\theta)-Q(s,a,\\theta)\\Vert^{2}.\n",
    "\\end{equation*}\n",
    "\n",
    "\n"
   ]
  },
  {
   "cell_type": "markdown",
   "metadata": {},
   "source": [
    "#### Answer\n",
    "\n",
    "1. \\begin{equation*}Q^{\\pi}(s,a)=E_{(s',a')\\sim p(.|s,a)}[r(s,a)+\\gamma Q^{\\pi}(s',a')]\\end{equation*}\n",
    "\n",
    "> We have from the defition given above:\n",
    "\n",
    "\\begin{equation*}\n",
    "\\begin{aligned}\n",
    "Q^\\pi(s,a)&=E_{p^{\\pi}}[\\sum_{t\\leq T}\\gamma^{t}r(s_{t},a_{t})|s_{0}=s,a_{0}=a] \\>\\\\\n",
    "&= E_{p^{\\pi}}[r(s_0,a_0) + \\sum_{1 \\leq t\\leq \\infty}\\gamma^{t}r(s_{t},a_{t})|s_{0}=s,a_{0}=a] \\> \\\\\n",
    "&= r(s,a) + \\gamma E_{p^{\\pi}}[ \\sum_{1 \\leq t\\leq \\infty}\\gamma^{t-1}r(s_{t},a_{t})|s_{0}=s,a_{0}=a] \\> \\\\\n",
    "&= r(s,a)+ \\gamma E_{s',a'} P(s_1 = s', a_1 = a' | s_0 = s, a_0 = a) E_{p^{\\pi}}[\\sum_{0 \\leq t\\leq \\infty} \\gamma^t r(s_t,a_t)|s_0 = s', a_0 = a']\\\\\n",
    "&= r(s,a) + \\gamma E_{(s',a')\\sim p(.|s,a)}[Q^{\\pi}(s',a')]\\\\\n",
    "&= E_{(s',a')\\sim p(.|s,a)}[r(s,a)+\\gamma Q^{\\pi}(s',a')]\n",
    "\\end{aligned}\n",
    "\\end{equation*}\n",
    "\n",
    "\n",
    "\n",
    "> Finally, $\\boxed{Q^{\\pi}(s,a) = E_{(s',a')\\sim p(.|s,a)}[r(s,a)+\\gamma Q^{\\pi}(s',a')]}$\n",
    "\n",
    "2. \\begin{equation*}Q^{*}(s,a)=E_{s'\\sim \\pi^*(.|s,a)}[r(s,a)+\\gamma\\max_{a'}Q^{*}(s',a')].\\end{equation*}\n",
    "\n",
    "> We found on the previous question:\n",
    "\\begin{equation*}\n",
    "Q^{\\pi}(s,a)=E_{(s',a')\\sim p(.|s,a)}[r(s,a)+\\gamma Q^{\\pi}(s',a')] =E_{s'\\sim p(.|s,a)}[r(s,a)+\\gamma E_{a'\\sim \\pi}[Q^{\\pi}(s',a')]]\n",
    "\\end{equation*}\n",
    "Since we have : \\begin{equation*}Q^*(s,a) = max_{\\pi}Q^{\\pi}(s,a)\\\\\\end{equation*}\n",
    "Then:\n",
    "\\begin{equation*}\n",
    "\\begin{aligned}\n",
    "Q^*(s,a)\n",
    "&= max_{\\pi}E_{s'\\sim p(.|s,a)}[r(s,a)+\\gamma E_{a'\\sim \\pi}[Q^{\\pi}(s',a')]]\\\\\n",
    "&= max_{\\pi}[{r(s,a)+\\gamma E_{s'\\sim p(.|s,a)}}[E_{a'\\sim \\pi}[Q^{\\pi}(s',a')]]]\\\\\n",
    "&= r(s,a)+\\gamma max_{\\pi}E_{s'\\sim p(.|s,a)}[E_{a'\\sim \\pi}[Q^{\\pi}(s',a')]]\\\\\n",
    "&=r(s,a)+\\gamma E_{s'\\sim \\pi^*(.|s,a)}[E_{a'\\sim \\pi*}[Q^{*\\pi}(s',a')]]  & (\\pi^*(s) = argmax_a Q^*(s,a))\\\\\n",
    "&= r(s,a)+\\gamma E_{s'\\sim \\pi^*(.|s,a)}[Q^*(s',\\pi^*(s'))] \\\\\n",
    "&= E_{s'\\sim \\pi^*(.|s,a)}[r(s,a)+\\gamma max_a'Q^*(s',a')]\n",
    "\\end{aligned}\n",
    "\\end{equation*}\n",
    "\n",
    "\n",
    ">Finally, we have: $\\boxed{Q^*(s,a) = E_{s'\\sim \\pi^*(.|s,a)}[r(s,a)+\\gamma max_a'Q^*(s',a')]}$"
   ]
  },
  {
   "cell_type": "markdown",
   "metadata": {},
   "source": [
    "***\n",
    "The DQN-learning algorithm relies on these derivations to train the parameters $\\theta$ of a Deep Neural Network:\n",
    "\n",
    "1. At the state $s_t$, select the action $a_t$ with best reward using $Q_t$ and store the results;\n",
    "\n",
    "2. Obtain the new state $s_{t+1}$ from the environment $p$;\n",
    "\n",
    "3. Store $(s_t,a_t,s_{t+1})$;\n",
    "\n",
    "4. Obtain $Q_{t+1}$ by minimizing  $\\mathcal{L}$ from a recovered batch from the previously stored results.\n",
    "\n",
    "***\n",
    "__Question 6__ Implement the class ```Memory``` that stores moves (in a replay buffer) via ```remember``` and provides a ```random_access``` to these. Specify a maximum memory size to avoid side effects. You can for example use a ```list()``` and set by default ```max_memory=100```."
   ]
  },
  {
   "cell_type": "code",
   "execution_count": 12,
   "metadata": {},
   "outputs": [],
   "source": [
    "class Memory(object):\n",
    "    def __init__(self, max_memory=100):\n",
    "        self.max_memory = max_memory\n",
    "        self.memory = list()\n",
    "\n",
    "    def remember(self, m):\n",
    "        self.memory.append(m)\n",
    "        # Delete first move if max_memory reached\n",
    "        if len(self.memory) > self.max_memory:\n",
    "            del self.memory[0]\n",
    "\n",
    "    def random_access(self):\n",
    "        random_index = np.random.randint(0, len(self.memory))\n",
    "        return self.memory[random_index]"
   ]
  },
  {
   "cell_type": "markdown",
   "metadata": {},
   "source": [
    "***\n",
    "The pipeline we will use for training is given below:"
   ]
  },
  {
   "cell_type": "code",
   "execution_count": 13,
   "metadata": {},
   "outputs": [],
   "source": [
    "def train(agent, env, epoch, prefix=''):\n",
    "    # Number of won games\n",
    "    score = 0\n",
    "    loss = 0\n",
    "\n",
    "    for e in range(epoch):\n",
    "        # At each epoch, we restart to a fresh game and get the initial state\n",
    "        state = env.reset()\n",
    "        # This assumes that the games will terminate\n",
    "        game_over = False\n",
    "\n",
    "        win = 0\n",
    "        lose = 0\n",
    "\n",
    "        while not game_over:\n",
    "            # The agent performs an action\n",
    "            action = agent.act(state)\n",
    "\n",
    "            # Apply an action to the environment, get the next state, the reward\n",
    "            # and if the games end\n",
    "            prev_state = state\n",
    "            state, reward, game_over = env.act(action)\n",
    "\n",
    "            # Update the counters\n",
    "            if reward > 0:\n",
    "                win = win + reward\n",
    "            if reward < 0:\n",
    "                lose = lose -reward\n",
    "\n",
    "            # Apply the reinforcement strategy\n",
    "            loss = agent.reinforce(prev_state, state,  action, reward, game_over)\n",
    "\n",
    "        # Save as a mp4\n",
    "        if e % 10 == 0:\n",
    "            env.draw(prefix+str(e))\n",
    "\n",
    "        # Update stats\n",
    "        score += win-lose\n",
    "\n",
    "        print(\"Epoch {:03d}/{:03d} | Loss {:.4f} | Win/lose count {}/{} ({})\"\n",
    "              .format(e, epoch, loss, win, lose, win-lose))\n",
    "    print('Final mean score: ' + str(score/epoch))\n",
    "    agent.save(name_weights=prefix+'model.h5', name_model=prefix+'model.json')"
   ]
  },
  {
   "cell_type": "markdown",
   "metadata": {},
   "source": [
    "***\n",
    "__Question 7__ Implement the DQN training algorithm using a cascade of fully connected layers. You can use different learning rate, batch size or memory size parameters. In particular, the loss might oscillate while the player will start to win the games. You have to find a good criterium."
   ]
  },
  {
   "cell_type": "code",
   "execution_count": 20,
   "metadata": {},
   "outputs": [],
   "source": [
    "class DQN(Agent):\n",
    "    def __init__(self, grid_size, epsilon=0.1, memory_size=100, batch_size=16, n_state=2):\n",
    "        super(DQN, self).__init__(epsilon=epsilon)\n",
    "\n",
    "        # Discount for Q learning\n",
    "        self.discount = 0.99\n",
    "        \n",
    "        self.grid_size = grid_size\n",
    "        \n",
    "        # number of state\n",
    "        self.n_state = n_state\n",
    "\n",
    "        # Memory\n",
    "        self.memory = Memory(memory_size)\n",
    "        \n",
    "        # Batch size when learning\n",
    "        self.batch_size = batch_size\n",
    "\n",
    "    def learned_act(self, s):\n",
    "        return np.argmax(self.model.predict(np.array([s])))\n",
    "\n",
    "    def reinforce(self, s_, n_s_, a_, r_, game_over_):\n",
    "        # Two steps: first memorize the states, second learn from the pool\n",
    "\n",
    "        self.memory.remember([s_, n_s_, a_, r_, game_over_])\n",
    "        \n",
    "        input_states = np.zeros((self.batch_size, 5, 5, self.n_state))\n",
    "        target_q = np.zeros((self.batch_size, 4))\n",
    "        \n",
    "        for i in range(self.batch_size):\n",
    "            ######## FILL IN\n",
    "            [s_, n_s_, a_, r_, game_over_] = self.memory.random_access()\n",
    "            input_states[i] = s_\n",
    "            target_q[i] = self.model.predict(np.array([s_]))[0]\n",
    "\n",
    "            if game_over_:\n",
    "                target_q[i][a_] = r_\n",
    "            else:\n",
    "                q_n_s_ = self.model.predict(np.array([n_s_]))\n",
    "                target_q[i][a_] = r_ + self.discount * max(q_n_s_[0])\n",
    "                \n",
    "        # HINT: Clip the target to avoid exploiding gradients.. -- clipping is a bit tighter\n",
    "        target_q = np.clip(target_q, -3, 3)\n",
    "        l = self.model.train_on_batch(input_states, target_q)\n",
    "\n",
    "        return l\n",
    "\n",
    "    def save(self,name_weights='model.h5',name_model='model.json'):\n",
    "        self.model.save_weights(name_weights, overwrite=True)\n",
    "        with open(name_model, \"w\") as outfile:\n",
    "            json.dump(self.model.to_json(), outfile)\n",
    "            \n",
    "    def load(self,name_weights='model.h5',name_model='model.json'):\n",
    "        with open(name_model, \"r\") as jfile:\n",
    "            model = model_from_json(json.load(jfile))\n",
    "        model.load_weights(name_weights)\n",
    "        model.compile(\"sgd\", \"mse\")\n",
    "        self.model = model\n",
    "\n",
    "            \n",
    "class DQN_FC(DQN):\n",
    "    def __init__(self, *args, lr=0.1,**kwargs):\n",
    "        super(DQN_FC, self).__init__( *args,**kwargs)\n",
    "        \n",
    "        # NN Model\n",
    "        \n",
    "        ####### FILL IN   \n",
    "        model = Sequential()\n",
    "        model.add(Flatten(input_shape=(5, 5, self.n_state,)))\n",
    "        model.add(Dense(32, activation=\"relu\"))\n",
    "        model.add(Dense(16, activation=\"relu\"))\n",
    "        model.add(Dense(4))\n",
    "        \n",
    "        model.compile(sgd(lr=lr, decay=1e-4, momentum=0.0), \"mse\")\n",
    "        self.model = model\n",
    "        \n",
    "#         print(\"### FC model ###\")\n",
    "#         print(model.summary())"
   ]
  },
  {
   "cell_type": "code",
   "execution_count": 45,
   "metadata": {
    "scrolled": true
   },
   "outputs": [
    {
     "name": "stdout",
     "output_type": "stream",
     "text": [
      "### FC model ###\n",
      "_________________________________________________________________\n",
      "Layer (type)                 Output Shape              Param #   \n",
      "=================================================================\n",
      "flatten_11 (Flatten)         (None, 50)                0         \n",
      "_________________________________________________________________\n",
      "dense_24 (Dense)             (None, 32)                1632      \n",
      "_________________________________________________________________\n",
      "dense_25 (Dense)             (None, 16)                528       \n",
      "_________________________________________________________________\n",
      "dense_26 (Dense)             (None, 4)                 68        \n",
      "=================================================================\n",
      "Total params: 2,228\n",
      "Trainable params: 2,228\n",
      "Non-trainable params: 0\n",
      "_________________________________________________________________\n",
      "None\n",
      "Epoch 000/051 | Loss 0.0735 | Win/lose count 5.0/7.0 (-2.0)\n",
      "Epoch 001/051 | Loss 0.0103 | Win/lose count 3.5/5.0 (-1.5)\n",
      "Epoch 002/051 | Loss 0.0093 | Win/lose count 3.5/1.0 (2.5)\n",
      "Epoch 003/051 | Loss 0.0078 | Win/lose count 4.5/2.0 (2.5)\n",
      "Epoch 004/051 | Loss 0.0052 | Win/lose count 2.5/2.0 (0.5)\n",
      "Epoch 005/051 | Loss 0.0039 | Win/lose count 1.5/4.0 (-2.5)\n",
      "Epoch 006/051 | Loss 0.0138 | Win/lose count 2.5/4.0 (-1.5)\n",
      "Epoch 007/051 | Loss 0.0341 | Win/lose count 2.0/7.0 (-5.0)\n",
      "Epoch 008/051 | Loss 0.0693 | Win/lose count 4.0/5.0 (-1.0)\n",
      "Epoch 009/051 | Loss 0.0061 | Win/lose count 1.5/1.0 (0.5)\n",
      "Epoch 010/051 | Loss 0.0027 | Win/lose count 3.5/3.0 (0.5)\n",
      "Epoch 011/051 | Loss 0.0019 | Win/lose count 2.0/2.0 (0.0)\n",
      "Epoch 012/051 | Loss 0.0025 | Win/lose count 2.0/2.0 (0.0)\n",
      "Epoch 013/051 | Loss 0.0407 | Win/lose count 1.5/2.0 (-0.5)\n",
      "Epoch 014/051 | Loss 0.0050 | Win/lose count 4.5/9.0 (-4.5)\n",
      "Epoch 015/051 | Loss 0.0016 | Win/lose count 0.5/1.0 (-0.5)\n",
      "Epoch 016/051 | Loss 0.0063 | Win/lose count 3.5/2.0 (1.5)\n",
      "Epoch 017/051 | Loss 0.0067 | Win/lose count 1.5/3.0 (-1.5)\n",
      "Epoch 018/051 | Loss 0.0106 | Win/lose count 4.5/3.0 (1.5)\n",
      "Epoch 019/051 | Loss 0.0138 | Win/lose count 5.0/4.0 (1.0)\n",
      "Epoch 020/051 | Loss 0.0060 | Win/lose count 6.0/3.0 (3.0)\n",
      "Epoch 021/051 | Loss 0.0028 | Win/lose count 5.0/3.0 (2.0)\n",
      "Epoch 022/051 | Loss 0.0033 | Win/lose count 2.0/1.0 (1.0)\n",
      "Epoch 023/051 | Loss 0.0063 | Win/lose count 6.0/1.0 (5.0)\n",
      "Epoch 024/051 | Loss 0.0024 | Win/lose count 5.5/4.0 (1.5)\n",
      "Epoch 025/051 | Loss 0.0045 | Win/lose count 3.5/1.0 (2.5)\n",
      "Epoch 026/051 | Loss 0.0145 | Win/lose count 6.0/5.0 (1.0)\n",
      "Epoch 027/051 | Loss 0.0080 | Win/lose count 1.5/3.0 (-1.5)\n",
      "Epoch 028/051 | Loss 0.0042 | Win/lose count 7.0/6.0 (1.0)\n",
      "Epoch 029/051 | Loss 0.0159 | Win/lose count 7.5/1.0 (6.5)\n",
      "Epoch 030/051 | Loss 0.0038 | Win/lose count 4.5/1.0 (3.5)\n",
      "Epoch 031/051 | Loss 0.0037 | Win/lose count 6.0/2.0 (4.0)\n",
      "Epoch 032/051 | Loss 0.0054 | Win/lose count 2.5/1.0 (1.5)\n",
      "Epoch 033/051 | Loss 0.0040 | Win/lose count 2.0/3.0 (-1.0)\n",
      "Epoch 034/051 | Loss 0.0021 | Win/lose count 8.0/1.0 (7.0)\n",
      "Epoch 035/051 | Loss 0.0068 | Win/lose count 6.0/5.0 (1.0)\n",
      "Epoch 036/051 | Loss 0.0078 | Win/lose count 2.5/4.0 (-1.5)\n",
      "Epoch 037/051 | Loss 0.0111 | Win/lose count 11.0/8.0 (3.0)\n",
      "Epoch 038/051 | Loss 0.0021 | Win/lose count 6.0/6.0 (0.0)\n",
      "Epoch 039/051 | Loss 0.0056 | Win/lose count 7.5/4.0 (3.5)\n",
      "Epoch 040/051 | Loss 0.0323 | Win/lose count 6.5/2.0 (4.5)\n",
      "Epoch 041/051 | Loss 0.0049 | Win/lose count 9.5/1.0 (8.5)\n",
      "Epoch 042/051 | Loss 0.0051 | Win/lose count 8.0/1.0 (7.0)\n",
      "Epoch 043/051 | Loss 0.0048 | Win/lose count 1.5/2.0 (-0.5)\n",
      "Epoch 044/051 | Loss 0.0048 | Win/lose count 5.5/4.0 (1.5)\n",
      "Epoch 045/051 | Loss 0.0059 | Win/lose count 7.0/4.0 (3.0)\n",
      "Epoch 046/051 | Loss 0.0073 | Win/lose count 5.5/1.0 (4.5)\n",
      "Epoch 047/051 | Loss 0.0888 | Win/lose count 14.0/4.0 (10.0)\n",
      "Epoch 048/051 | Loss 0.0148 | Win/lose count 7.0/2.0 (5.0)\n",
      "Epoch 049/051 | Loss 0.0532 | Win/lose count 5.5/0 (5.5)\n",
      "Epoch 050/051 | Loss 0.0019 | Win/lose count 5.5/1.0 (4.5)\n",
      "Final mean score: 1.696078431372549\n"
     ]
    }
   ],
   "source": [
    "env = Environment(grid_size=size, max_time=T, temperature=0.3)\n",
    "agent = DQN_FC(size, lr=.1, epsilon = 0.1, memory_size=2000, batch_size = 32)\n",
    "train(agent, env, epochs_train, prefix='FC_train/fc_train')"
   ]
  },
  {
   "cell_type": "code",
   "execution_count": 46,
   "metadata": {},
   "outputs": [
    {
     "data": {
      "text/html": [
       "<video alt=\"test\" controls>\n",
       "                <source src=\"data:video/mp4;base64,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\" type=\"video/mp4\" />\n",
       "             </video>"
      ],
      "text/plain": [
       "<IPython.core.display.HTML object>"
      ]
     },
     "execution_count": 46,
     "metadata": {},
     "output_type": "execute_result"
    }
   ],
   "source": [
    "HTML(display_videos('FC_train/fc_train50.mp4'))"
   ]
  },
  {
   "cell_type": "markdown",
   "metadata": {},
   "source": [
    "> We obtain better results than the random choices tried before. Now we will implement another Network and see if it performs better."
   ]
  },
  {
   "cell_type": "markdown",
   "metadata": {},
   "source": [
    "***\n",
    "***\n",
    "__Question 8__ Implement the DQN training algorithm using a CNN (for example, 2 convolutional layers and one final fully connected layer)."
   ]
  },
  {
   "cell_type": "code",
   "execution_count": 21,
   "metadata": {},
   "outputs": [],
   "source": [
    "class DQN_CNN(DQN):\n",
    "    def __init__(self, *args,lr=0.1,**kwargs):\n",
    "        super(DQN_CNN, self).__init__(*args,**kwargs)\n",
    "        \n",
    "        # Convolutional Deep Network \n",
    "        model_cnn = Sequential()\n",
    "        \n",
    "        # Convolutional Layers\n",
    "        model_cnn.add(Conv2D(16, (2, 2), activation='relu', input_shape=(5, 5, self.n_state,)))\n",
    "        model_cnn.add(Conv2D(32, (2, 2), activation='relu'))\n",
    "        \n",
    "        #Flattening before Fully Connected Layers\n",
    "        model_cnn.add(Flatten())\n",
    "        model_cnn.add(Dense(40, activation='relu'))\n",
    "        model_cnn.add(Dense(4))\n",
    "\n",
    "        model_cnn.compile(sgd(lr=lr, decay=1e-4, momentum=0.0), \"mse\")\n",
    "        self.model = model_cnn\n",
    "        \n",
    "#         print(\"### CNN model ###\")\n",
    "#         print(model_cnn.summary())"
   ]
  },
  {
   "cell_type": "code",
   "execution_count": 43,
   "metadata": {
    "scrolled": true
   },
   "outputs": [
    {
     "name": "stdout",
     "output_type": "stream",
     "text": [
      "### CNN model ###\n",
      "_________________________________________________________________\n",
      "Layer (type)                 Output Shape              Param #   \n",
      "=================================================================\n",
      "conv2d_21 (Conv2D)           (None, 4, 4, 16)          144       \n",
      "_________________________________________________________________\n",
      "conv2d_22 (Conv2D)           (None, 3, 3, 32)          2080      \n",
      "_________________________________________________________________\n",
      "flatten_10 (Flatten)         (None, 288)               0         \n",
      "_________________________________________________________________\n",
      "dense_22 (Dense)             (None, 40)                11560     \n",
      "_________________________________________________________________\n",
      "dense_23 (Dense)             (None, 4)                 164       \n",
      "=================================================================\n",
      "Total params: 13,948\n",
      "Trainable params: 13,948\n",
      "Non-trainable params: 0\n",
      "_________________________________________________________________\n",
      "None\n",
      "Epoch 000/051 | Loss 0.0016 | Win/lose count 3.0/7.0 (-4.0)\n",
      "Epoch 001/051 | Loss 0.0030 | Win/lose count 5.5/5.0 (0.5)\n",
      "Epoch 002/051 | Loss 0.0001 | Win/lose count 5.0/2.0 (3.0)\n",
      "Epoch 003/051 | Loss 0.0054 | Win/lose count 5.5/4.0 (1.5)\n",
      "Epoch 004/051 | Loss 0.0108 | Win/lose count 3.0/2.0 (1.0)\n",
      "Epoch 005/051 | Loss 0.0064 | Win/lose count 2.0/2.0 (0.0)\n",
      "Epoch 006/051 | Loss 0.1106 | Win/lose count 5.0/0 (5.0)\n",
      "Epoch 007/051 | Loss 0.0021 | Win/lose count 5.0/1.0 (4.0)\n",
      "Epoch 008/051 | Loss 0.0489 | Win/lose count 3.0/1.0 (2.0)\n",
      "Epoch 009/051 | Loss 0.0022 | Win/lose count 7.5/2.0 (5.5)\n",
      "Epoch 010/051 | Loss 0.0044 | Win/lose count 10.5/2.0 (8.5)\n",
      "Epoch 011/051 | Loss 0.0032 | Win/lose count 4.5/3.0 (1.5)\n",
      "Epoch 012/051 | Loss 0.0027 | Win/lose count 18.0/2.0 (16.0)\n",
      "Epoch 013/051 | Loss 0.0042 | Win/lose count 9.5/1.0 (8.5)\n",
      "Epoch 014/051 | Loss 0.0029 | Win/lose count 8.5/0 (8.5)\n",
      "Epoch 015/051 | Loss 0.0046 | Win/lose count 5.0/0 (5.0)\n",
      "Epoch 016/051 | Loss 0.0029 | Win/lose count 11.0/1.0 (10.0)\n",
      "Epoch 017/051 | Loss 0.0015 | Win/lose count 3.0/0 (3.0)\n",
      "Epoch 018/051 | Loss 0.0105 | Win/lose count 6.0/3.0 (3.0)\n",
      "Epoch 019/051 | Loss 0.0026 | Win/lose count 8.0/1.0 (7.0)\n",
      "Epoch 020/051 | Loss 0.0025 | Win/lose count 6.5/1.0 (5.5)\n",
      "Epoch 021/051 | Loss 0.0038 | Win/lose count 11.0/3.0 (8.0)\n",
      "Epoch 022/051 | Loss 0.0010 | Win/lose count 8.0/0 (8.0)\n",
      "Epoch 023/051 | Loss 0.0017 | Win/lose count 11.0/3.0 (8.0)\n",
      "Epoch 024/051 | Loss 0.0012 | Win/lose count 17.0/4.0 (13.0)\n",
      "Epoch 025/051 | Loss 0.0056 | Win/lose count 11.0/2.0 (9.0)\n",
      "Epoch 026/051 | Loss 0.0037 | Win/lose count 4.0/2.0 (2.0)\n",
      "Epoch 027/051 | Loss 0.0512 | Win/lose count 9.0/3.0 (6.0)\n",
      "Epoch 028/051 | Loss 0.0027 | Win/lose count 12.0/2.0 (10.0)\n",
      "Epoch 029/051 | Loss 0.0020 | Win/lose count 17.0/2.0 (15.0)\n",
      "Epoch 030/051 | Loss 0.0022 | Win/lose count 16.5/4.0 (12.5)\n",
      "Epoch 031/051 | Loss 0.0037 | Win/lose count 5.0/4.0 (1.0)\n",
      "Epoch 032/051 | Loss 0.0065 | Win/lose count 11.5/3.0 (8.5)\n",
      "Epoch 033/051 | Loss 0.0027 | Win/lose count 9.0/1.0 (8.0)\n",
      "Epoch 034/051 | Loss 0.0075 | Win/lose count 10.5/4.0 (6.5)\n",
      "Epoch 035/051 | Loss 0.0522 | Win/lose count 7.5/0 (7.5)\n",
      "Epoch 036/051 | Loss 0.0040 | Win/lose count 18.0/1.0 (17.0)\n",
      "Epoch 037/051 | Loss 0.0044 | Win/lose count 9.0/0 (9.0)\n",
      "Epoch 038/051 | Loss 0.0527 | Win/lose count 7.0/4.0 (3.0)\n",
      "Epoch 039/051 | Loss 0.0041 | Win/lose count 11.5/2.0 (9.5)\n",
      "Epoch 040/051 | Loss 0.0023 | Win/lose count 15.0/3.0 (12.0)\n",
      "Epoch 041/051 | Loss 0.0011 | Win/lose count 8.0/2.0 (6.0)\n",
      "Epoch 042/051 | Loss 0.0570 | Win/lose count 24.5/1.0 (23.5)\n",
      "Epoch 043/051 | Loss 0.0021 | Win/lose count 9.5/6.0 (3.5)\n",
      "Epoch 044/051 | Loss 0.0021 | Win/lose count 13.0/1.0 (12.0)\n",
      "Epoch 045/051 | Loss 0.0008 | Win/lose count 19.0/2.0 (17.0)\n",
      "Epoch 046/051 | Loss 0.0020 | Win/lose count 7.5/3.0 (4.5)\n",
      "Epoch 047/051 | Loss 0.0024 | Win/lose count 12.5/5.0 (7.5)\n",
      "Epoch 048/051 | Loss 0.0022 | Win/lose count 11.5/1.0 (10.5)\n",
      "Epoch 049/051 | Loss 0.0027 | Win/lose count 14.0/1.0 (13.0)\n",
      "Epoch 050/051 | Loss 0.0029 | Win/lose count 11.0/5.0 (6.0)\n",
      "Final mean score: 7.294117647058823\n"
     ]
    }
   ],
   "source": [
    "env = Environment(grid_size=size, max_time=T, temperature=0.3)\n",
    "agent = DQN_CNN(size, lr=.1, epsilon = 0.1, memory_size=2000, batch_size = 32)\n",
    "train(agent, env, epochs_train, prefix='CNN_train/cnn_train')"
   ]
  },
  {
   "cell_type": "code",
   "execution_count": 44,
   "metadata": {},
   "outputs": [
    {
     "data": {
      "text/html": [
       "<video alt=\"test\" controls>\n",
       "                <source src=\"data:video/mp4;base64,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\" type=\"video/mp4\" />\n",
       "             </video>"
      ],
      "text/plain": [
       "<IPython.core.display.HTML object>"
      ]
     },
     "execution_count": 44,
     "metadata": {},
     "output_type": "execute_result"
    }
   ],
   "source": [
    "HTML(display_videos('CNN_train/cnn_train50.mp4'))"
   ]
  },
  {
   "cell_type": "markdown",
   "metadata": {},
   "source": [
    "> We obtained the best result so far using a Convolution Neural Network with 2 Convolution layers with filters that have the same size then a 2 Fully connected layers."
   ]
  },
  {
   "cell_type": "markdown",
   "metadata": {},
   "source": [
    "***\n",
    "***\n",
    "__Question 9__ Test both algorithms and compare their performances. Which issue(s) do you observe? Observe also different behaviors by changing the temperature."
   ]
  },
  {
   "cell_type": "code",
   "execution_count": 55,
   "metadata": {},
   "outputs": [],
   "source": [
    "# Common environment \n",
    "env = Environment(grid_size=size, max_time=T,temperature=0.3)"
   ]
  },
  {
   "cell_type": "code",
   "execution_count": 56,
   "metadata": {},
   "outputs": [
    {
     "name": "stdout",
     "output_type": "stream",
     "text": [
      "### FC model ###\n",
      "_________________________________________________________________\n",
      "Layer (type)                 Output Shape              Param #   \n",
      "=================================================================\n",
      "flatten_14 (Flatten)         (None, 50)                0         \n",
      "_________________________________________________________________\n",
      "dense_32 (Dense)             (None, 32)                1632      \n",
      "_________________________________________________________________\n",
      "dense_33 (Dense)             (None, 16)                528       \n",
      "_________________________________________________________________\n",
      "dense_34 (Dense)             (None, 4)                 68        \n",
      "=================================================================\n",
      "Total params: 2,228\n",
      "Trainable params: 2,228\n",
      "Non-trainable params: 0\n",
      "_________________________________________________________________\n",
      "None\n",
      "\n",
      "---------- Test of the FC ----------\n",
      "Win/lose count 5.5/7.0. Average score (-1.5)\n",
      "Win/lose count 3.5/3.0. Average score (-0.5)\n",
      "Win/lose count 4.0/7.0. Average score (-1.3333333333333333)\n",
      "Win/lose count 3.5/3.0. Average score (-0.875)\n",
      "Win/lose count 2.0/2.0. Average score (-0.7)\n",
      "Win/lose count 3.5/5.0. Average score (-0.8333333333333334)\n",
      "Win/lose count 0.5/8.0. Average score (-1.7857142857142858)\n",
      "Win/lose count 3.5/2.0. Average score (-1.375)\n",
      "Win/lose count 3.5/3.0. Average score (-1.1666666666666667)\n",
      "Win/lose count 5.5/7.0. Average score (-1.2)\n",
      "Win/lose count 1.0/0. Average score (-1.0)\n",
      "Final score: -1.0\n"
     ]
    }
   ],
   "source": [
    "# Fully Connected Model\n",
    "agent_fc = DQN_FC(size, lr=.1, epsilon = 0.1, memory_size=2000, batch_size = 32)\n",
    "agent_cnn.load(name_weights='FC_train/fc_trainmodel.h5',name_model='FC_train/fc_trainmodel.json')\n",
    "\n",
    "print('\\n---------- Test of the Fully Connected Network ----------')\n",
    "test(agent_fc, env, epochs_test, prefix='FC_test/fc_test')"
   ]
  },
  {
   "cell_type": "code",
   "execution_count": 57,
   "metadata": {},
   "outputs": [
    {
     "data": {
      "text/html": [
       "<video alt=\"test\" controls>\n",
       "                <source src=\"data:video/mp4;base64,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\" type=\"video/mp4\" />\n",
       "             </video>"
      ],
      "text/plain": [
       "<IPython.core.display.HTML object>"
      ]
     },
     "execution_count": 57,
     "metadata": {},
     "output_type": "execute_result"
    }
   ],
   "source": [
    "HTML(display_videos('FC_test/fc_test10.mp4'))"
   ]
  },
  {
   "cell_type": "code",
   "execution_count": 58,
   "metadata": {},
   "outputs": [
    {
     "name": "stdout",
     "output_type": "stream",
     "text": [
      "### CNN model ###\n",
      "_________________________________________________________________\n",
      "Layer (type)                 Output Shape              Param #   \n",
      "=================================================================\n",
      "conv2d_25 (Conv2D)           (None, 4, 4, 16)          144       \n",
      "_________________________________________________________________\n",
      "conv2d_26 (Conv2D)           (None, 3, 3, 32)          2080      \n",
      "_________________________________________________________________\n",
      "flatten_15 (Flatten)         (None, 288)               0         \n",
      "_________________________________________________________________\n",
      "dense_35 (Dense)             (None, 40)                11560     \n",
      "_________________________________________________________________\n",
      "dense_36 (Dense)             (None, 4)                 164       \n",
      "=================================================================\n",
      "Total params: 13,948\n",
      "Trainable params: 13,948\n",
      "Non-trainable params: 0\n",
      "_________________________________________________________________\n",
      "None\n",
      "\n",
      "---------- Test of the Convolutional Neural Network ----------\n",
      "Win/lose count 3.5/2.0. Average score (1.5)\n",
      "Win/lose count 7.5/1.0. Average score (4.0)\n",
      "Win/lose count 11.0/6.0. Average score (4.333333333333333)\n",
      "Win/lose count 7.0/1.0. Average score (4.75)\n",
      "Win/lose count 18.0/2.0. Average score (7.0)\n",
      "Win/lose count 20.5/2.0. Average score (8.916666666666666)\n",
      "Win/lose count 6.0/6.0. Average score (7.642857142857143)\n",
      "Win/lose count 6.5/0. Average score (7.5)\n",
      "Win/lose count 12.5/2.0. Average score (7.833333333333333)\n",
      "Win/lose count 10.0/2.0. Average score (7.85)\n",
      "Win/lose count 6.0/0. Average score (7.681818181818182)\n",
      "Final score: 7.681818181818182\n"
     ]
    }
   ],
   "source": [
    "# Convolutional Neural Network\n",
    "agent_cnn = DQN_CNN(size, lr=.1, epsilon = 0.1, memory_size=2000, batch_size = 32)\n",
    "agent_cnn.load(name_weights='CNN_train/cnn_trainmodel.h5', name_model='CNN_train/cnn_trainmodel.json')\n",
    "\n",
    "print('\\n---------- Test of the Convolutional Neural Network ----------')\n",
    "test(agent_cnn, env, epochs_test, prefix='CNN_test/cnn_test')"
   ]
  },
  {
   "cell_type": "code",
   "execution_count": 59,
   "metadata": {
    "scrolled": true
   },
   "outputs": [
    {
     "data": {
      "text/html": [
       "<video alt=\"test\" controls>\n",
       "                <source src=\"data:video/mp4;base64,AAAAIGZ0eXBpc29tAAACAGlzb21pc28yYXZjMW1wNDEAAAAIZnJlZQAAFvxtZGF0AAACrQYF//+p3EXpvebZSLeWLNgg2SPu73gyNjQgLSBjb3JlIDE1NyByMjkzNSA1NDVkZTJmIC0gSC4yNjQvTVBFRy00IEFWQyBjb2RlYyAtIENvcHlsZWZ0IDIwMDMtMjAxOCAtIGh0dHA6Ly93d3cudmlkZW9sYW4ub3JnL3gyNjQuaHRtbCAtIG9wdGlvbnM6IGNhYmFjPTEgcmVmPTMgZGVibG9jaz0xOjA6MCBhbmFseXNlPTB4MToweDExMSBtZT1oZXggc3VibWU9NyBwc3k9MSBwc3lfcmQ9MS4wMDowLjAwIG1peGVkX3JlZj0xIG1lX3JhbmdlPTE2IGNocm9tYV9tZT0xIHRyZWxsaXM9MSA4eDhkY3Q9MCBjcW09MCBkZWFkem9uZT0yMSwxMSBmYXN0X3Bza2lwPTEgY2hyb21hX3FwX29mZnNldD00IHRocmVhZHM9NiBsb29rYWhlYWRfdGhyZWFkcz0xIHNsaWNlZF90aHJlYWRzPTAgbnI9MCBkZWNpbWF0ZT0xIGludGVybGFjZWQ9MCBibHVyYXlfY29tcGF0PTAgY29uc3RyYWluZWRfaW50cmE9MCBiZnJhbWVzPTMgYl9weXJhbWlkPTIgYl9hZGFwdD0xIGJfYmlhcz0wIGRpcmVjdD0xIHdlaWdodGI9MSBvcGVuX2dvcD0wIHdlaWdodHA9MiBrZXlpbnQ9MjUwIGtleWludF9taW49MjUgc2NlbmVjdXQ9NDAgaW50cmFfcmVmcmVzaD0wIHJjX2xvb2thaGVhZD00MCByYz1jcmYgbWJ0cmVlPTEgY3JmPTIzLjAgcWNvbXA9MC42MCBxcG1pbj0wIHFwbWF4PTY5IHFwc3RlcD00IGlwX3JhdGlvPTEuNDAgYXE9MToxLjAwAIAAAALLZYiEADP//vaG+BTYUyP+T7/8I/+5H7cfWfrixkIJvrVeQ9GAMl8a/5lGYaXpyc8t7R+vTNAEZz8ZS8pZp9o/ApmtrL5lb/cBMbKtQAljameJRa5vx4s9ylG5lCITVHotFVLBA0l97l8+YsTFXInZBIZVV9h/w+0ii5uPkN0mhjuHqAoOLUk43pSYyRabd02mR8uPh9vQT9jwlCiPsmCvAu9uuO9PBRT3gtWJqXdCGvswSSz80REMQDNm8/IMd9HolctUd1+O192RDDe8uV53dYW7BQgOz6qbi047ydNVEZ9w/cahcuFAPdDycAAAazjt3KnbeoIPeId+q6iuR+cVGHm5gSzU7cmclkteBWYpFtBfunZX69ABYItb4Oy6SuoE+GccX+XxHeNfkUIPjUu92JEqw3bIKQPlDGXJzBcmh4bJOAQQcsqKW9cdn1MxxOeZXSuIfdqkdE/OQD0jqOBLgjvAABnPnlpqOitUUCd+GRzNDGpQGVuMuZ8F4RNN+awJz9uUK100Oiv16FYzZqQxw1X1IFLpBw9LEAPr8qoX2nVy2EpSxUYgvgg1zEn/K2/dd+Z1Wd022xUzYwWEZkJafG0Gd7uLc7EItc7aId51uiQTfwWSiFTqekGa+HGe4lklHjeeQHY3luR2QF2ocs96jXGf/LdJaDIuq8LvtbWRIK8aOCfOFTbq2grdNH+Gp90SGO8jq+RQIZH1CTXVnePzu1Xayzf+GSBAbLTIZwGTJqAbbd1IarnQsdtOfSokuKj7K1O5cNcISWYUvuPKLNNLZFlrPkXeo/y3n5UyE6TngxK2Zxx0fQOzkFcd2AS6naN3td66PA7HOixthHlnsUUU1ed2c3RzVdUURhqeaTr8efPNQ/d2DmZy8cbTlTtnYIFY2u/rmuMfsE8xXY3GhnR6Q4Wzz9UAEVtDG7fIQGUWjs3Wv3gRUruifQAG5QAAABRBmiFsQ3/+p4QBHfo591DW6EiggAAAABpBmkM8IZMphDP//p4QAtfum+wFrsmLYKn90QAAABABnmJqQr8AlsrkVeAJ/SqAAAAAGEGaZEnhDyZTAhn//p4QAS74h/bIY+sJbQAAABhBmoVJ4Q8mUwIb//6nhAAyfsHr2Z8EWFsAAAAeQZqnSeEPJlMFETwz//6eEAC/+vv02vcxznTYqbd5AAAAEAGexmpCvwAnzXznWhhef0EAAAAZQZrISeEPJlMCG//+p4QAHn9g/wnBboTdwAAAAB5BmupJ4Q8mUwURPDP//p4QAFGr8Hf+I6eCH+ak74AAAAAPAZ8JakK/ABDdiPJcz5NLAAAAGUGbC0nhDyZTAhv//qeEABUfdT9RxoSHUEAAAAAZQZssSeEPJlMCG//+p4QADY+wf4Tgt0KpwAAAABlBm01J4Q8mUwId//6plgAEZ+PP37INxWDhAAAAHUGbcUnhDyZTAh3//qmWAALx76vf5uuKzFpuNbzBAAAAEEGfj0URPC//AAN0H1hV5BMAAAAOAZ+udEK/AAS3cd55xqcAAAAQAZ+wakK/AASWWQw+gJB+iAAAABJBm7VJqEFomUwIb//+p4QAAScAAAAQQZ/TRREsL/8AA2ES3P1yJwAAABABn/J0Qr8ABLhAHO2ONPygAAAAEAGf9GpCvwAEllkMPoCQfokAAAASQZv5SahBbJlMCG///qeEAAEnAAAAEEGeF0UVLC//AANhEtz9cicAAAAQAZ42dEK/AAS4QBztjjT8oQAAABABnjhqQr8ABJZZDD6AkH6IAAAAGkGaO0moQWyZTBRMN//+p4QABawUHt7qfttFAAAAEAGeWmpCvwAEteaJkTStRMAAAAAcQZpdSeEKUmUwUsM//p4QACKiHKtwXna+vvuKkQAAABABnnxqQr8AB0GYPJgevmKBAAAAGEGafknhDomUwIb//qeEAAko+Y8jE/y4FQAAABtBmp9J4Q8mUwIb//6nhAAJaPmPIyiBO/6N74AAAAAgQZqjSeEPJlMCG//+p4QACWj5jzNKkmuhPxX/nujg/r8AAAAUQZ7BRRE8L/8ABa2WK2+Y9yWs9UAAAAAQAZ7gdEK/AAeXii4D8oAYMQAAABABnuJqQr8ABR7HluGza1CAAAAAGkGa5EmoQWiZTAhv//6nhAAJqgCzbbTC+elBAAAAGUGbBUnhClJlMCHf/qmWAATn486WdHU8x8EAAAAWQZspSeEOiZTAh3/+qZYAB1PaX9X1wQAAAA5Bn0dFETwv/wAIrQBC4QAAABABn2Z0Qr8AC/WVd1fjvDfAAAAADwGfaGpCvwAHw5w0SueYgQAAABxBm21JqEFomUwId//+qZYABMfjz+XZ7ULIUukrAAAAEEGfi0URLC//AAWtlgnx+MAAAAAQAZ+qdEK/AAeXieKTbJYYgAAAAA8Bn6xqQr8ABPlGiakqf4EAAAATQZuxSahBbJlMCHf//qmWAACVgQAAAAxBn89FFSwv/wAAsoEAAAAPAZ/udEK/AAT60d0dt8PHAAAADwGf8GpCvwAE+UaILUeZMwAAABxBm/VJqEFsmUwId//+qZYABMCjogWaA7vox7AbAAAAEEGeE0UVLC//AAWugQUobmgAAAAPAZ4ydEK/AAT60d55xpmAAAAAEAGeNGpCvwAHmZ4Q8aGtAYEAAAATQZo5SahBbJlMCHf//qmWAACVgAAAAAxBnldFFSwv/wAAsoEAAAAPAZ52dEK/AAfFsDQ855iBAAAADwGeeGpCvwAHw5w0SueYgQAAABNBmn1JqEFsmUwId//+qZYAAJWBAAAAFEGem0UVLC//AAWekLzXxx9FlKmYAAAAEAGeunRCvwAHl4nik2yWGIEAAAAQAZ68akK/AAeZnhDxoa0BgQAAABlBmqFJqEFsmUwId//+qZYABMfjz+XaM3OTAAAAEEGe30UVLC//AAWugQUobmgAAAAPAZ7+dEK/AAfFsDXXxkCBAAAADwGe4GpCvwAHmB/VIoEsMQAAAB1BmuNJqEFsmUwUTDv//qmWAAMF7S/sWA6IFuMbhwAAABABnwJqQr8ABPqUbzTFW4zAAAAAEkGbB0nhClJlMCHf/qmWAACVgQAAABNBnyVFNEwv/wADtbt0ziup7FLFAAAADwGfRHRCvwAFHzJ3Bsl6oQAAABABn0ZqQr8ABR2vnOtDDC5BAAAAE0GbS0moQWiZTAh3//6plgAAlYAAAAAQQZ9pRREsL/8AA7cS2b9JhQAAAA8Bn4h0Qr8ABR8ydwbJeqEAAAAQAZ+KakK/AAUdr5zrQwwuQAAAABNBm49JqEFsmUwId//+qZYAAJWAAAAAEEGfrUUVLC//AAO3Etm/SYUAAAAPAZ/MdEK/AAUfMncGyXqhAAAAEAGfzmpCvwAFHa+c60MMLkEAAAATQZvTSahBbJlMCHf//qmWAACVgAAAABBBn/FFFSwv/wADtxLZv0mFAAAADwGeEHRCvwAFHzJ3Bsl6oQAAABABnhJqQr8ABR2vnOtDDC5AAAAAE0GaF0moQWyZTAh3//6plgAAlYAAAAAQQZ41RRUsL/8AA7cS2b9JhQAAAA8BnlR0Qr8ABR8ydwbJeqEAAAAQAZ5WakK/AAUdr5zrQwwuQQAAABxBmltJqEFsmUwId//+qZYAAwEFnKDNAp9GP097AAAAEEGeeUUVLC//AAOJ/FXkgCAAAAAQAZ6YdEK/AAT7oBztjjT6YQAAAA8BnppqQr8ABPlGiakqf4AAAAATQZqfSahBbJlMCHf//qmWAACVgQAAAAxBnr1FFSwv/wAAsoEAAAAPAZ7cdEK/AAT60d0dt8PHAAAADwGe3mpCvwAE+UaILUeZMwAAAB1BmsFJqEFsmUwUTDv//qmWAATAo6IFmgO76MewGwAAABABnuBqQr8AB5mYPJgevlmAAAAAEkGa5UnhClJlMCHf/qmWAACVgQAAABNBnwNFNEwv/wAI7HzpnFdT2J4cAAAAEAGfInRCvwAMRIsq8CK8NIEAAAAQAZ8kakK/AAxBHbnWhhffQQAAABNBmylJqEFomUwId//+qZYAAJWBAAAAE0GfR0URLC//AAWvJbNTMsuQ1I0AAAAQAZ9mdEK/AAeXieKTbJYYgAAAABABn2hqQr8AB5meEPGhrQGAAAAAGUGbbUmoQWyZTAh3//6plgAEx+PP5dozc5MAAAAQQZ+LRRUsL/8ABa6BBShuaAAAAA8Bn6p0Qr8AB8WwNdfGQIAAAAAPAZ+sakK/AAeYH9UigSwxAAAAE0GbsUmoQWyZTAh3//6plgAAlYEAAAAMQZ/PRRUsL/8AALKBAAAADwGf7nRCvwAE+tHdHbfDxwAAAA8Bn/BqQr8ABPlGiC1HmTMAAAATQZv1SahBbJlMCHf//qmWAACVgQAAAAxBnhNFFSwv/wAAsoAAAAAPAZ4ydEK/AAT60d0dt8PHAAAADwGeNGpCvwAE+UaILUeZMwAAABNBmjlJqEFsmUwId//+qZYAAJWAAAAADEGeV0UVLC//AACygQAAAA8BnnZ0Qr8ABPrR3R23w8cAAAAPAZ54akK/AAT5RogtR5kzAAAAE0GafUmoQWyZTAh3//6plgAAlYEAAAAMQZ6bRRUsL/8AALKAAAAADwGeunRCvwAE+tHdHbfDxwAAAA8BnrxqQr8ABPlGiC1HmTMAAAAdQZq/SahBbJlMFEw7//6plgAEwKOiBZoDu+jHsBoAAAAQAZ7eakK/AAeZmDyYHr5ZgAAAABJBmsNJ4QpSZTAh3/6plgAAlYEAAAAMQZ7hRTRML/8AALKAAAAADwGfAHRCvwAHxbA0POeYgQAAAA8BnwJqQr8AB8OcNErnmIEAAAAcQZsHSahBaJlMCHf//qmWAATH48/l2e1CyFLpKwAAABBBnyVFESwv/wAFroEFKG5pAAAADwGfRHRCvwAHxbA118ZAgQAAAA8Bn0ZqQr8AB5gf1SKBLDEAAAASQZtLSahBbJlMCG///qeEAAEnAAAADEGfaUUVLC//AACygAAAAA8Bn4h0Qr8ABPrR3R23w8cAAAAPAZ+KakK/AAT5RogtR5kzAAAAGkGbjEmoQWyZTAh3//6plgADBe0vC1BP7EjAAAAAEkGbsEnhClJlMCHf/qmWAACVgQAAABNBn85FNEwv/wADdRLZqZllyGufAAAAEAGf7XRCvwAEtdWjJLf7X4EAAAAPAZ/vakK/AAS3Z5bhs2tjAAAAE0Gb9EmoQWiZTAh3//6plgAAlYAAAAATQZ4SRREsL/8ABUE2fmbcTpj9/QAAABABnjF0Qr8ABxYzIjsWYps4AAAAEAGeM2pCvwAHQVwa48VbdmAAAAATQZo4SahBbJlMCHf//qmWAACVgQAAABNBnlZFFSwv/wADdRLZqZllyGueAAAAEAGedXRCvwAEtdWjJLf7X4EAAAAPAZ53akK/AAS3Z5bhs2tjAAAAGUGafEmoQWyZTAh3//6plgAC8e+r70UAyl8AAAAQQZ6aRRUsL/8AA3Qjd7hdQQAAABABnrl0Qr8ABLXVoyS3+1+AAAAADwGeu2pCvwADEAsbA5WBgQAAABNBmqBJqEFsmUwId//+qZYAAJWBAAAAEEGe3kUVLC//AAN05Ee7u3UAAAAPAZ79dEK/AAS30ncGyXrGAAAAEAGe/2pCvwAEtk+c60MMNkEAAAATQZrkSahBbJlMCHf//qmWAACVgAAAABBBnwJFFSwv/wADdRLZv0mnAAAADwGfIXRCvwAEt9J3Bsl6xgAAABABnyNqQr8ABLZPnOtDDDZBAAAAEkGbKEmoQWyZTAhv//6nhAABJwAAABBBn0ZFFSwv/wADdRLZv0mnAAAADwGfZXRCvwAEt9J3Bsl6xwAAABABn2dqQr8ABLZPnOtDDDZAAAAAGkGba0moQWyZTAhv//6nhAAFq9E/1W+Y/InAAAAAEkGfiUUVLCv/AASXaIXYb6XxqQAAABABn6pqQr8ABLXmiZE0rUTAAAAAHUGbrUmoQWyZTBRMN//+p4QACOj5mps24ze6nxz8AAAAEAGfzGpCvwAHQZg8mB6+YoEAAAAYQZvOSeEKUmUwIb/+p4QACSj5jyMT/LgVAAAAGUGb70nhDomUwId//qmWAATAo51oer75ScEAAAAaQZoTSeEPJlMCHf/+qZYABMfjz+XaPwNwfxgAAAAQQZ4xRRE8L/8ABa6BBShuaAAAAA8BnlB0Qr8AB8WwNdfGQIEAAAAPAZ5SakK/AAeYH9UigSwxAAAAGkGaVkmoQWiZTAh3//6plgADBe0vC1BP7EjAAAAAEUGedEURLCv/AAT6lG80LCEtAAAADgGelWpCvwAE+bGMm5XaAAAAE0GamkmoQWyZTAh3//6plgAAlYEAAAATQZ64RRUsL/8AA3US2amZZchrnwAAABABntd0Qr8ABLXVoyS3+1+AAAAADwGe2WpCvwAEt2eW4bNrYwAAABNBmt5JqEFsmUwId//+qZYAAJWAAAAAEEGe/EUVLC//AAN1Etm/SacAAAAQAZ8bdEK/AAS11aMkt/tfgQAAAA8Bnx1qQr8ABLdnluGza2MAAAASQZsCSahBbJlMCG///qeEAAEnAAAAEEGfIEUVLC//AAN1Etm/SacAAAAQAZ9fdEK/AAS11aMkt/tfgAAAAA8Bn0FqQr8ABLdnluGza2MAAAASQZtGSahBbJlMCGf//p4QAAR8AAAAEEGfZEUVLC//AAN1Etm/SacAAAAQAZ+DdEK/AAS11aMkt/tfgQAAAA8Bn4VqQr8ABLdnluGza2MAAAAaQZuJS6hCEFskRggoB/IB/YeAIV/+OEAAEXEAAAAnQZ+nRRUsK/8Cr2PtQcTdqsNJJuWqhgcstbvNKiCaLKceDf211kmAAAAAJQGfyGpCvwKvY+1BxN2qw0km5aqGByy1u80qIJospPFnjggSjUAAAAw4bW9vdgAAAGxtdmhkAAAAAAAAAAAAAAAAAAAD6AAAH5AAAQAAAQAAAAAAAAAAAAAAAAEAAAAAAAAAAAAAAAAAAAABAAAAAAAAAAAAAAAAAABAAAAAAAAAAAAAAAAAAAAAAAAAAAAAAAAAAAAAAAAAAgAAC2J0cmFrAAAAXHRraGQAAAADAAAAAAAAAAAAAAABAAAAAAAAH5AAAAAAAAAAAAAAAAAAAAAAAAEAAAAAAAAAAAAAAAAAAAABAAAAAAAAAAAAAAAAAABAAAAAARAAAAEQAAAAAAAkZWR0cwAAABxlbHN0AAAAAAAAAAEAAB+QAAAEAAABAAAAAArabWRpYQAAACBtZGhkAAAAAAAAAAAAAAAAAAAyAAABlABVxAAAAAAALWhkbHIAAAAAAAAAAHZpZGUAAAAAAAAAAAAAAABWaWRlb0hhbmRsZXIAAAAKhW1pbmYAAAAUdm1oZAAAAAEAAAAAAAAAAAAAACRkaW5mAAAAHGRyZWYAAAAAAAAAAQAAAAx1cmwgAAAAAQAACkVzdGJsAAAAlXN0c2QAAAAAAAAAAQAAAIVhdmMxAAAAAAAAAAEAAAAAAAAAAAAAAAAAAAAAARABEABIAAAASAAAAAAAAAABAAAAAAAAAAAAAAAAAAAAAAAAAAAAAAAAAAAAAAAAAAAAGP//AAAAL2F2Y0MB9AAN/+EAF2f0AA2RmygiEdCAAAADAIAAABkHihTLAQAFaOvjxEgAAAAYc3R0cwAAAAAAAAABAAAAygAAAgAAAAAUc3RzcwAAAAAAAAABAAAAAQAABhBjdHRzAAAAAAAAAMAAAAACAAAEAAAAAAEAAAYAAAAAAQAAAgAAAAACAAAEAAAAAAEAAAYAAAAAAQAAAgAAAAABAAAEAAAAAAEAAAYAAAAAAQAAAgAAAAADAAAEAAAAAAEAAAoAAAAAAQAABAAAAAABAAAAAAAAAAEAAAIAAAAAAQAACgAAAAABAAAEAAAAAAEAAAAAAAAAAQAAAgAAAAABAAAKAAAAAAEAAAQAAAAAAQAAAAAAAAABAAACAAAAAAEAAAYAAAAAAQAAAgAAAAABAAAGAAAAAAEAAAIAAAAAAgAABAAAAAABAAAKAAAAAAEAAAQAAAAAAQAAAAAAAAABAAACAAAAAAIAAAQAAAAAAQAACgAAAAABAAAEAAAAAAEAAAAAAAAAAQAAAgAAAAABAAAKAAAAAAEAAAQAAAAAAQAAAAAAAAABAAACAAAAAAEAAAoAAAAAAQAABAAAAAABAAAAAAAAAAEAAAIAAAAAAQAACgAAAAABAAAEAAAAAAEAAAAAAAAAAQAAAgAAAAABAAAKAAAAAAEAAAQAAAAAAQAAAAAAAAABAAACAAAAAAEAAAoAAAAAAQAABAAAAAABAAAAAAAAAAEAAAIAAAAAAQAACgAAAAABAAAEAAAAAAEAAAAAAAAAAQAAAgAAAAABAAAGAAAAAAEAAAIAAAAAAQAACgAAAAABAAAEAAAAAAEAAAAAAAAAAQAAAgAAAAABAAAKAAAAAAEAAAQAAAAAAQAAAAAAAAABAAACAAAAAAEAAAoAAAAAAQAABAAAAAABAAAAAAAAAAEAAAIAAAAAAQAACgAAAAABAAAEAAAAAAEAAAAAAAAAAQAAAgAAAAABAAAKAAAAAAEAAAQAAAAAAQAAAAAAAAABAAACAAAAAAEAAAoAAAAAAQAABAAAAAABAAAAAAAAAAEAAAIAAAAAAQAACgAAAAABAAAEAAAAAAEAAAAAAAAAAQAAAgAAAAABAAAGAAAAAAEAAAIAAAAAAQAACgAAAAABAAAEAAAAAAEAAAAAAAAAAQAAAgAAAAABAAAKAAAAAAEAAAQAAAAAAQAAAAAAAAABAAACAAAAAAEAAAoAAAAAAQAABAAAAAABAAAAAAAAAAEAAAIAAAAAAQAACgAAAAABAAAEAAAAAAEAAAAAAAAAAQAAAgAAAAABAAAKAAAAAAEAAAQAAAAAAQAAAAAAAAABAAACAAAAAAEAAAoAAAAAAQAABAAAAAABAAAAAAAAAAEAAAIAAAAAAQAACgAAAAABAAAEAAAAAAEAAAAAAAAAAQAAAgAAAAABAAAGAAAAAAEAAAIAAAAAAQAACgAAAAABAAAEAAAAAAEAAAAAAAAAAQAAAgAAAAABAAAKAAAAAAEAAAQAAAAAAQAAAAAAAAABAAACAAAAAAEAAAoAAAAAAQAABAAAAAABAAAAAAAAAAEAAAIAAAAAAQAABAAAAAABAAAKAAAAAAEAAAQAAAAAAQAAAAAAAAABAAACAAAAAAEAAAoAAAAAAQAABAAAAAABAAAAAAAAAAEAAAIAAAAAAQAACgAAAAABAAAEAAAAAAEAAAAAAAAAAQAAAgAAAAABAAAKAAAAAAEAAAQAAAAAAQAAAAAAAAABAAACAAAAAAEAAAoAAAAAAQAABAAAAAABAAAAAAAAAAEAAAIAAAAAAQAACgAAAAABAAAEAAAAAAEAAAAAAAAAAQAAAgAAAAABAAAKAAAAAAEAAAQAAAAAAQAAAAAAAAABAAACAAAAAAEAAAgAAAAAAgAAAgAAAAABAAAGAAAAAAEAAAIAAAAAAgAABAAAAAABAAAKAAAAAAEAAAQAAAAAAQAAAAAAAAABAAACAAAAAAEAAAgAAAAAAgAAAgAAAAABAAAKAAAAAAEAAAQAAAAAAQAAAAAAAAABAAACAAAAAAEAAAoAAAAAAQAABAAAAAABAAAAAAAAAAEAAAIAAAAAAQAACgAAAAABAAAEAAAAAAEAAAAAAAAAAQAAAgAAAAABAAAKAAAAAAEAAAQAAAAAAQAAAAAAAAABAAACAAAAAAEAAAgAAAAAAgAAAgAAAAAcc3RzYwAAAAAAAAABAAAAAQAAAMoAAAABAAADPHN0c3oAAAAAAAAAAAAAAMoAAAWAAAAAGAAAAB4AAAAUAAAAHAAAABwAAAAiAAAAFAAAAB0AAAAiAAAAEwAAAB0AAAAdAAAAHQAAACEAAAAUAAAAEgAAABQAAAAWAAAAFAAAABQAAAAUAAAAFgAAABQAAAAUAAAAFAAAAB4AAAAUAAAAIAAAABQAAAAcAAAAHwAAACQAAAAYAAAAFAAAABQAAAAeAAAAHQAAABoAAAASAAAAFAAAABMAAAAgAAAAFAAAABQAAAATAAAAFwAAABAAAAATAAAAEwAAACAAAAAUAAAAEwAAABQAAAAXAAAAEAAAABMAAAATAAAAFwAAABgAAAAUAAAAFAAAAB0AAAAUAAAAEwAAABMAAAAhAAAAFAAAABYAAAAXAAAAEwAAABQAAAAXAAAAFAAAABMAAAAUAAAAFwAAABQAAAATAAAAFAAAABcAAAAUAAAAEwAAABQAAAAXAAAAFAAAABMAAAAUAAAAIAAAABQAAAAUAAAAEwAAABcAAAAQAAAAEwAAABMAAAAhAAAAFAAAABYAAAAXAAAAFAAAABQAAAAXAAAAFwAAABQAAAAUAAAAHQAAABQAAAATAAAAEwAAABcAAAAQAAAAEwAAABMAAAAXAAAAEAAAABMAAAATAAAAFwAAABAAAAATAAAAEwAAABcAAAAQAAAAEwAAABMAAAAhAAAAFAAAABYAAAAQAAAAEwAAABMAAAAgAAAAFAAAABMAAAATAAAAFgAAABAAAAATAAAAEwAAAB4AAAAWAAAAFwAAABQAAAATAAAAFwAAABcAAAAUAAAAFAAAABcAAAAXAAAAFAAAABMAAAAdAAAAFAAAABQAAAATAAAAFwAAABQAAAATAAAAFAAAABcAAAAUAAAAEwAAABQAAAAWAAAAFAAAABMAAAAUAAAAHgAAABYAAAAUAAAAIQAAABQAAAAcAAAAHQAAAB4AAAAUAAAAEwAAABMAAAAeAAAAFQAAABIAAAAXAAAAFwAAABQAAAATAAAAFwAAABQAAAAUAAAAEwAAABYAAAAUAAAAFAAAABMAAAAWAAAAFAAAABQAAAATAAAAHgAAACsAAAApAAAAFHN0Y28AAAAAAAAAAQAAADAAAABidWR0YQAAAFptZXRhAAAAAAAAACFoZGxyAAAAAAAAAABtZGlyYXBwbAAAAAAAAAAAAAAAAC1pbHN0AAAAJal0b28AAAAdZGF0YQAAAAEAAAAATGF2ZjU4LjIwLjEwMA==\" type=\"video/mp4\" />\n",
       "             </video>"
      ],
      "text/plain": [
       "<IPython.core.display.HTML object>"
      ]
     },
     "execution_count": 59,
     "metadata": {},
     "output_type": "execute_result"
    }
   ],
   "source": [
    "HTML(display_videos('CNN_test/cnn_test10.mp4'))"
   ]
  },
  {
   "cell_type": "code",
   "execution_count": 74,
   "metadata": {},
   "outputs": [
    {
     "name": "stdout",
     "output_type": "stream",
     "text": [
      "Temperature:  0.1\n",
      "FC Network - Final score: -1.5\n",
      "CN Network - Final score: 2.6363636363636362\n",
      "Temperature:  0.2\n",
      "FC Network - Final score: -2.4545454545454546\n",
      "CN Network - Final score: 5.590909090909091\n",
      "Temperature:  0.3\n",
      "FC Network - Final score: -0.18181818181818182\n",
      "CN Network - Final score: 8.272727272727273\n",
      "Temperature:  0.4\n",
      "FC Network - Final score: 0.9545454545454546\n",
      "CN Network - Final score: 13.727272727272727\n",
      "Temperature:  0.5\n",
      "FC Network - Final score: 2.772727272727273\n",
      "CN Network - Final score: 22.136363636363637\n",
      "Temperature:  0.6\n",
      "FC Network - Final score: 1.1363636363636365\n",
      "CN Network - Final score: 27.09090909090909\n",
      "Temperature:  0.7\n",
      "FC Network - Final score: 3.6363636363636362\n",
      "CN Network - Final score: 27.772727272727273\n",
      "Temperature:  0.8\n",
      "FC Network - Final score: 7.136363636363637\n",
      "CN Network - Final score: 41.45454545454545\n",
      "Temperature:  0.9\n",
      "FC Network - Final score: 15.090909090909092\n",
      "CN Network - Final score: 39.90909090909091\n"
     ]
    }
   ],
   "source": [
    "# Variation of Temperature\n",
    "temperatures = np.linspace(0.1, 0.9, num=9)\n",
    "scores_fc = []\n",
    "socres_cnn = []\n",
    "for temp in temperatures:\n",
    "    print(\"Temperature: \", round(temp, 1))\n",
    "    env = Environment(grid_size=size, max_time=T,temperature=temp)\n",
    "    # Fully Connected Network\n",
    "    print(\"FC Network -\", end=' ')\n",
    "    agent_fc = DQN_FC(size, lr=.1, epsilon = 0.1, memory_size=2000, batch_size = 32)\n",
    "    agent_cnn.load(name_weights='FC_train/fc_trainmodel.h5',name_model='FC_train/fc_trainmodel.json')\n",
    "    scores_fc.append(test(agent_fc, env, epochs_test, prefix='FC_test/fc_test'))\n",
    "    # Convolutional Neural Network\n",
    "    print(\"CN Network -\", end=' ')\n",
    "    agent_cnn = DQN_CNN(size, lr=.1, epsilon = 0.1, memory_size=2000, batch_size = 32)\n",
    "    agent_cnn.load(name_weights='CNN_train/cnn_trainmodel.h5', name_model='CNN_train/cnn_trainmodel.json')\n",
    "    socres_cnn.append(test(agent_cnn, env, epochs_test, prefix='CNN_test/cnn_test'))"
   ]
  },
  {
   "cell_type": "markdown",
   "metadata": {},
   "source": [
    "#### Observations\n",
    "\n",
    "> As we can see, the Convolutional Neural Network performs way better than the Fully Connected one. But they both perform better than the Random model.\n",
    "The issue observed is that the algorithm does stay in the same area where he started and never cover many areas in the island. The rat never ventures in the island far from where he started looking. \n",
    "Even if the rat doesn't get the poison, he also doesn't get the cheese thus the final result is low comapred to what the rat can actually eat (as cheese). We would like the avoid the most possible going back to cells where we already have been.\n",
    "\n",
    "> There are two different ways to lower the effects of the issue faced:\n",
    "- Decrease the value of epsilon progressively. It will lower the random part of our algorithm\n",
    "- Take in account the fact that we already have been into a cell to avoid the less possible going back to it"
   ]
  },
  {
   "cell_type": "markdown",
   "metadata": {},
   "source": [
    "***\n",
    "\n",
    "The algorithm tends to not explore the map which can be an issue. We propose two ideas in order to encourage exploration:\n",
    "1. Incorporating a decreasing $\\epsilon$-greedy exploration. You can use the method ```set_epsilon```\n",
    "2. Append via the environment a new state that describes if a cell has been visited or not\n",
    "\n",
    "***\n",
    "__Question 10__ Design a new ```train_explore``` function and environment class ```EnvironmentExploring``` to tackle the issue of exploration.\n",
    "\n"
   ]
  },
  {
   "cell_type": "code",
   "execution_count": 56,
   "metadata": {},
   "outputs": [],
   "source": [
    "def train_explore(agent, env, epoch, eps_end=0.1, eps_games=10, prefix=''):\n",
    "    # Number of won games\n",
    "    score = 0\n",
    "    loss = 0\n",
    "    \n",
    "    eps_start = agent.epsilon\n",
    "    \n",
    "    # Values of epsilon\n",
    "    list_epsilon = np.linspace(0, eps_start - eps_end, epoch)\n",
    "    \n",
    "    for e in range(epoch):\n",
    "        # At each epoch, we restart to a fresh game and get the initial state\n",
    "        state = env.reset()\n",
    "        # This assumes that the games will terminate\n",
    "        game_over = False\n",
    "\n",
    "        win = 0\n",
    "        lose = 0\n",
    "        \n",
    "        # Setting new epsilon\n",
    "        agent.set_epsilon(round(eps_start - list_epsilon[e], 2))\n",
    "        \n",
    "        while not game_over:\n",
    "            # The agent performs an action\n",
    "            action = agent.act(state)\n",
    "\n",
    "            # Apply an action to the environment, get the next state, the reward\n",
    "            # and if the games end\n",
    "            prev_state = state\n",
    "            state, reward, game_over = env.act(action, train=True)\n",
    "            \n",
    "            # Update the counters\n",
    "            if reward > 0:\n",
    "                win = win + reward\n",
    "            if reward < 0:\n",
    "                lose = lose - reward\n",
    "\n",
    "            # Apply the reinforcement strategy\n",
    "            loss = agent.reinforce(prev_state, state,  action, reward, game_over)\n",
    "\n",
    "        # Save as a mp4\n",
    "        if e % 10 == 0:\n",
    "            env.draw(prefix+str(e))\n",
    "\n",
    "        # Update stats\n",
    "        score += win-lose\n",
    "\n",
    "        print(\"Epoch {:03d}/{:03d} | Loss {:.4f} | Win/lose count {}/{} ({}) | Epsilon {}\"\n",
    "              .format(e, epoch, loss, win, lose, win-lose, agent.epsilon))\n",
    "    print('Final mean score: ' + str(score/epoch))\n",
    "    agent.save(name_weights=prefix+'model.h5', name_model=prefix+'model.json')"
   ]
  },
  {
   "cell_type": "code",
   "execution_count": 57,
   "metadata": {},
   "outputs": [],
   "source": [
    "class EnvironmentExploring(object):\n",
    "    def __init__(self, grid_size=10, max_time=500, temperature=0.1, param_malus=-0.1):\n",
    "        grid_size = grid_size+4\n",
    "        self.grid_size = grid_size\n",
    "        self.max_time = max_time\n",
    "        self.temperature = temperature\n",
    "        self.param_malus = param_malus\n",
    "\n",
    "        #board on which one plays\n",
    "        self.board = np.zeros((grid_size,grid_size))\n",
    "        self.position = np.zeros((grid_size,grid_size))\n",
    "        self.malus = np.zeros((grid_size,grid_size))\n",
    "\n",
    "        # coordinate of the cat\n",
    "        self.x = 0\n",
    "        self.y = 1\n",
    "\n",
    "        # self time\n",
    "        self.t = 0\n",
    "\n",
    "        self.scale=16\n",
    "\n",
    "        self.to_draw = np.zeros((max_time+2, grid_size*self.scale, grid_size*self.scale, 3))\n",
    "\n",
    "\n",
    "    def draw(self,e):\n",
    "        skvideo.io.vwrite(str(e) + '.mp4', self.to_draw)\n",
    "\n",
    "    def get_frame(self,t):\n",
    "        b = np.zeros((self.grid_size,self.grid_size,3))+128\n",
    "        b[self.board>0,0] = 256\n",
    "        b[self.board < 0, 2] = 256\n",
    "        b[self.x,self.y,:]=256\n",
    "        b[-2:,:,:]=0\n",
    "        b[:,-2:,:]=0\n",
    "        b[:2,:,:]=0\n",
    "        b[:,:2,:]=0\n",
    "        \n",
    "        b =  cv2.resize(b, None, fx=self.scale, fy=self.scale, interpolation=cv2.INTER_NEAREST)\n",
    "\n",
    "        self.to_draw[t,:,:,:]=b\n",
    "\n",
    "\n",
    "    def act(self, action, train=True):\n",
    "        \"\"\"This function returns the new state, reward and decides if the\n",
    "        game ends.\"\"\"\n",
    "\n",
    "        self.get_frame(int(self.t))\n",
    "\n",
    "        self.position = np.zeros((self.grid_size, self.grid_size))\n",
    "\n",
    "        self.position[0:2,:]= -1\n",
    "        self.position[:,0:2] = -1\n",
    "        self.position[-2:, :] = -1\n",
    "        self.position[-2:, :] = -1\n",
    "\n",
    "        self.position[self.x, self.y] = 1\n",
    "        \n",
    "        if action == 0:\n",
    "            if self.x == self.grid_size-3:\n",
    "                self.x = self.x-1\n",
    "            else:\n",
    "                self.x = self.x + 1\n",
    "        elif action == 1:\n",
    "            if self.x == 2:\n",
    "                self.x = self.x+1\n",
    "            else:\n",
    "                self.x = self.x-1\n",
    "                \n",
    "        elif action == 2:\n",
    "            if self.y == self.grid_size - 3:\n",
    "                self.y = self.y - 1\n",
    "            else:\n",
    "                self.y = self.y + 1\n",
    "        elif action == 3:\n",
    "            if self.y == 2:\n",
    "                self.y = self.y + 1\n",
    "            else:\n",
    "                self.y = self.y - 1\n",
    "        else:\n",
    "            RuntimeError('Error: action not recognized')\n",
    "        \n",
    "        self.t = self.t + 1\n",
    "        \n",
    "        # Initialize the reward\n",
    "        reward = 0\n",
    "        reward = self.board[self.x, self.y]\n",
    "#         print(\"2. \", reward)\n",
    "        # Get the information that we've already been in the cell\n",
    "        if train:\n",
    "            reward += self.malus[self.x, self.y]\n",
    "#       print(\"3.\", self.malus[self.x, self.y], \"->\", reward)\n",
    "        \n",
    "        # Actualize values in the cell [x, y]\n",
    "        self.board[self.x, self.y] = 0\n",
    "        if self.malus[self.x, self.y] == 0:\n",
    "            self.malus[self.x, self.y] = self.param_malus\n",
    "        else:\n",
    "            # Increase the value of malus depending on the number of time we went to the cell\n",
    "            self.malus[self.x, self.y] += round(self.param_malus / 10, 2)\n",
    "            \n",
    "        game_over = self.t > self.max_time\n",
    "        \n",
    "        state = np.concatenate((self.board.reshape(self.grid_size, self.grid_size,1),\n",
    "                                self.position.reshape(self.grid_size, self.grid_size,1),\n",
    "                                self.malus.reshape(self.grid_size, self.grid_size,1)),\n",
    "                                axis=2)\n",
    "        \n",
    "        state = state[self.x-2:self.x+3,self.y-2:self.y+3,:]\n",
    "\n",
    "        return state, reward, game_over\n",
    "\n",
    "    def reset(self):\n",
    "        \"\"\"This function resets the game and returns the initial state\"\"\"\n",
    "\n",
    "        self.x = np.random.randint(3, self.grid_size-3, size=1)[0]\n",
    "        self.y = np.random.randint(3, self.grid_size-3, size=1)[0]\n",
    "\n",
    "\n",
    "        bonus = 0.5*np.random.binomial(1,self.temperature,size=self.grid_size**2)\n",
    "        bonus = bonus.reshape(self.grid_size,self.grid_size)\n",
    "\n",
    "        malus = -1.0*np.random.binomial(1,self.temperature,size=self.grid_size**2)\n",
    "        malus = malus.reshape(self.grid_size, self.grid_size)\n",
    "\n",
    "        self.to_draw = np.zeros((self.max_time+2, self.grid_size*self.scale, self.grid_size*self.scale, 3))\n",
    "\n",
    "\n",
    "        malus[bonus>0]=0\n",
    "\n",
    "        self.board = bonus + malus\n",
    "        \n",
    "        self.position = np.zeros((self.grid_size, self.grid_size))\n",
    "        self.position[0:2,:]= -1\n",
    "        self.position[:,0:2] = -1\n",
    "        self.position[-2:, :] = -1\n",
    "        self.position[-2:, :] = -1\n",
    "        \n",
    "        self.board[self.x,self.y] = 0\n",
    "        \n",
    "        self.t = 0\n",
    "        \n",
    "        self.malus = np.zeros((self.grid_size, self.grid_size))\n",
    "        self.malus[self.x, self.y] = self.param_malus\n",
    "        \n",
    "        state = np.concatenate((self.board.reshape(self.grid_size, self.grid_size,1),\n",
    "                                self.position.reshape(self.grid_size, self.grid_size,1),\n",
    "                                self.malus.reshape(self.grid_size, self.grid_size,1)),\n",
    "                                axis=2)\n",
    "\n",
    "        state = state[self.x - 2:self.x + 3, self.y - 2:self.y + 3, :]\n",
    "        return state"
   ]
  },
  {
   "cell_type": "code",
   "execution_count": null,
   "metadata": {},
   "outputs": [
    {
     "name": "stdout",
     "output_type": "stream",
     "text": [
      "Epoch 000/051 | Loss 0.0064 | Win/lose count 10.5/24.65 (-14.149999999999999) | Epsilon 1.0\n",
      "Epoch 001/051 | Loss 0.0133 | Win/lose count 12.5/29.830000000000005 (-17.330000000000005) | Epsilon 0.98\n",
      "Epoch 002/051 | Loss 0.0148 | Win/lose count 6.0/34.58000000000001 (-28.580000000000013) | Epsilon 0.96\n",
      "Epoch 003/051 | Loss 0.0159 | Win/lose count 15.5/28.970000000000038 (-13.470000000000038) | Epsilon 0.95\n",
      "Epoch 004/051 | Loss 0.0479 | Win/lose count 11.5/27.610000000000014 (-16.110000000000014) | Epsilon 0.93\n",
      "Epoch 005/051 | Loss 0.0633 | Win/lose count 8.0/32.01000000000001 (-24.010000000000012) | Epsilon 0.91\n",
      "Epoch 006/051 | Loss 0.1036 | Win/lose count 9.5/30.210000000000026 (-20.710000000000026) | Epsilon 0.89\n",
      "Epoch 007/051 | Loss 0.0067 | Win/lose count 7.5/31.180000000000003 (-23.680000000000003) | Epsilon 0.87\n",
      "Epoch 008/051 | Loss 0.0070 | Win/lose count 13.5/22.480000000000008 (-8.980000000000008) | Epsilon 0.86\n",
      "Epoch 009/051 | Loss 0.0528 | Win/lose count 10.0/30.480000000000025 (-20.480000000000025) | Epsilon 0.84\n",
      "Epoch 010/051 | Loss 0.0038 | Win/lose count 12.5/31.650000000000006 (-19.150000000000006) | Epsilon 0.82\n",
      "Epoch 011/051 | Loss 0.0062 | Win/lose count 11.0/27.59000000000001 (-16.59000000000001) | Epsilon 0.8\n",
      "Epoch 012/051 | Loss 0.0093 | Win/lose count 18.5/22.13999999999999 (-3.63999999999999) | Epsilon 0.78\n",
      "Epoch 013/051 | Loss 0.0067 | Win/lose count 17.5/29.41000000000003 (-11.910000000000029) | Epsilon 0.77\n",
      "Epoch 014/051 | Loss 0.0044 | Win/lose count 11.0/24.400000000000013 (-13.400000000000013) | Epsilon 0.75\n",
      "Epoch 015/051 | Loss 0.0120 | Win/lose count 13.5/29.490000000000023 (-15.990000000000023) | Epsilon 0.73\n",
      "Epoch 016/051 | Loss 0.0030 | Win/lose count 14.0/33.00000000000003 (-19.00000000000003) | Epsilon 0.71\n",
      "Epoch 017/051 | Loss 0.0068 | Win/lose count 15.5/24.680000000000003 (-9.180000000000003) | Epsilon 0.69\n",
      "Epoch 018/051 | Loss 0.0048 | Win/lose count 15.0/28.210000000000022 (-13.210000000000022) | Epsilon 0.68\n",
      "Epoch 019/051 | Loss 0.0078 | Win/lose count 17.0/23.930000000000014 (-6.930000000000014) | Epsilon 0.66\n"
     ]
    }
   ],
   "source": [
    "# Training\n",
    "env = EnvironmentExploring(grid_size=size, max_time=T, temperature=0.3)\n",
    "agent = DQN_CNN(size, lr=.1, epsilon = 1, memory_size=2000, batch_size = 32,n_state=3)\n",
    "train_explore(agent, env, epochs_train, prefix='cnn_train_explore')"
   ]
  },
  {
   "cell_type": "code",
   "execution_count": 45,
   "metadata": {},
   "outputs": [
    {
     "data": {
      "text/html": [
       "<video alt=\"test\" controls>\n",
       "                <source src=\"data:video/mp4;base64,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\" type=\"video/mp4\" />\n",
       "             </video>"
      ],
      "text/plain": [
       "<IPython.core.display.HTML object>"
      ]
     },
     "execution_count": 45,
     "metadata": {},
     "output_type": "execute_result"
    }
   ],
   "source": [
    "HTML(display_videos('cnn_train_explore50.mp4'))"
   ]
  },
  {
   "cell_type": "code",
   "execution_count": 54,
   "metadata": {},
   "outputs": [
    {
     "name": "stdout",
     "output_type": "stream",
     "text": [
      "Win/lose count 21.0/14.549999999999988. Average score (6.450000000000012)\n",
      "Win/lose count 10.0/24.740000000000006. Average score (-4.144999999999998)\n",
      "Win/lose count 12.5/18.169999999999995. Average score (-4.65333333333333)\n",
      "Win/lose count 17.0/21.96000000000003. Average score (-4.730000000000005)\n",
      "Win/lose count 11.5/20.069999999999993. Average score (-5.498000000000003)\n",
      "Win/lose count 20.0/17.959999999999997. Average score (-4.241666666666668)\n",
      "Win/lose count 18.0/17.099999999999984. Average score (-3.5071428571428562)\n",
      "Win/lose count 18.5/15.179999999999996. Average score (-2.6537499999999987)\n",
      "Win/lose count 21.5/17.879999999999995. Average score (-1.956666666666665)\n",
      "Win/lose count 22.0/16.899999999999988. Average score (-1.2509999999999972)\n",
      "Win/lose count 21.5/15.879999999999988. Average score (-0.6263636363636329)\n",
      "Final score: -0.6263636363636329\n"
     ]
    },
    {
     "data": {
      "text/html": [
       "<video alt=\"test\" controls>\n",
       "                <source src=\"data:video/mp4;base64,AAAAIGZ0eXBpc29tAAACAGlzb21pc28yYXZjMW1wNDEAAAAIZnJlZQAAGUZtZGF0AAACrQYF//+p3EXpvebZSLeWLNgg2SPu73gyNjQgLSBjb3JlIDE1NyByMjkzNSA1NDVkZTJmIC0gSC4yNjQvTVBFRy00IEFWQyBjb2RlYyAtIENvcHlsZWZ0IDIwMDMtMjAxOCAtIGh0dHA6Ly93d3cudmlkZW9sYW4ub3JnL3gyNjQuaHRtbCAtIG9wdGlvbnM6IGNhYmFjPTEgcmVmPTMgZGVibG9jaz0xOjA6MCBhbmFseXNlPTB4MToweDExMSBtZT1oZXggc3VibWU9NyBwc3k9MSBwc3lfcmQ9MS4wMDowLjAwIG1peGVkX3JlZj0xIG1lX3JhbmdlPTE2IGNocm9tYV9tZT0xIHRyZWxsaXM9MSA4eDhkY3Q9MCBjcW09MCBkZWFkem9uZT0yMSwxMSBmYXN0X3Bza2lwPTEgY2hyb21hX3FwX29mZnNldD00IHRocmVhZHM9NiBsb29rYWhlYWRfdGhyZWFkcz0xIHNsaWNlZF90aHJlYWRzPTAgbnI9MCBkZWNpbWF0ZT0xIGludGVybGFjZWQ9MCBibHVyYXlfY29tcGF0PTAgY29uc3RyYWluZWRfaW50cmE9MCBiZnJhbWVzPTMgYl9weXJhbWlkPTIgYl9hZGFwdD0xIGJfYmlhcz0wIGRpcmVjdD0xIHdlaWdodGI9MSBvcGVuX2dvcD0wIHdlaWdodHA9MiBrZXlpbnQ9MjUwIGtleWludF9taW49MjUgc2NlbmVjdXQ9NDAgaW50cmFfcmVmcmVzaD0wIHJjX2xvb2thaGVhZD00MCByYz1jcmYgbWJ0cmVlPTEgY3JmPTIzLjAgcWNvbXA9MC42MCBxcG1pbj0wIHFwbWF4PTY5IHFwc3RlcD00IGlwX3JhdGlvPTEuNDAgYXE9MToxLjAwAIAAAALvZYiEADP//vaG+BTYUyP+T7/8I/+5H7cfWfrixkIJvrVeQ9GAMl8a/5lGYaXpyc8t7R+vTNAEZz8ZS8pY/spyzVFwWHwKXAT75llFqRAcEXsas5ioylKK+WSIn516p1cf1TOTKo/GI0l97l9AO5B4GamEcVGlmDRa37wnGyo8HxSaEiACakLQFI36cT0B3hxgC2uDiJmFqdwUA12xPxU9vc1OiFzBh1PxsedGyMETp+hHPPP57wpU+C/JTH+Em6dN1iR6ERJ5zdGmsSfpHzjGXS9xHY6ILIwcFQYLyw/tc/FdcZNqN92pIU1Q2VMIVWlucZxO/CnBuDQ+YjSO7pfGIOAN7FaR2z1dyx9xpsaciWSaYKyo73bl5CLZI8qpvE+LzuLsjkupv3xjeww5NP00XFE4ILywuG14sWQNbbJTxKSR0kgpNu+4tE1eJehbhXypo7grdNbWnkMR7ZP6qSHyXV87c0GZCKYj9mC4ECLhDg7BfloB2zSbUDU+TgUcD7hCpeiiKSPTOnUKPnMyVwyyOjZ4s0mXrWlnSol18CgglOfvPqSOeNHk1CRYIcr7+HpR5TGLIMDzJxaSx+m7BCKMJJ/D7ao0r6iMye8KBnESEyeDACDLkMIHLMsZ9xCeAABtz/ovnbC1kV4Rjl8MGxGMRX6knVEvC1gL9YGBSAF3NQ29vit4b4F2g6452UxLR2QlrLA9aiCdeOm6vqmUAOVLnmd6KxviRDjGCSJmYYjpUXms5EOVZuC+oWKzaN1lngPaWo/S60nMzLIDgHEvUF4OfuDknZGRAmBZ/hRfjKf2OYc9cuWy2yAGFe8fv8BIWghz6CJOjZk7JBUfeBnxc36QUJUEUQtUXxDJHZualkuSVCclmMe+muPv6VxAAK9JDWmVahHS5WYFJKXxjbWS+bMaORS1mKBZcSwHUYbgEgiejeVwFFqzmMZjiPr+GgUNrLTHjgfBLC2IlCkoJ0dDD93iI0cUXigGhjwZgA79UAAdsQAAABVBmiFsQz/+nhACsGEc/hz4gQn9uYsAAAAYQZpCPCGTKYQ3//6nhAEMQBZtiANIaXTBAAAAGUGaY0nhDyZTAhv//qeEAdZQxqfejn1El4AAAAAZQZqGSeEPJlMCGf/+nhAWzid9equ4hlmMPQAAABJBnqRFETwr/wIfDS7uSVHhBYEAAAAOAZ7FakK/Ah5LVwFVyC0AAAAbQZrISahBaJlMFPDP/p4QBBfiH+Hn5FsE6/zBAAAAEAGe52pCvwDcktp14An84YAAAAAYQZrpSeEKUmUwIZ/+nhABu/X38iRH1hHpAAAAGEGbCknhDomUwIZ//p4QAR74h/bIY+sJgQAAAB5BmyxJ4Q8mUwURPDP//p4QALr7pvcAOrc7riPqi9wAAAAQAZ9LakK/ACayfOdaGF6BwAAAABhBm01J4Q8mUwIZ//6eEAB0fX38iRH1hdMAAAAYQZtuSeEPJlMCGf/+nhAAS74h51ugZIsNAAAAGEGbj0nhDyZTAhn//p4QAEm+If2yGPrDdwAAABlBm7BJ4Q8mUwIb//6nhAAMT7B/hOC3QrRAAAAAHkGb0knhDyZTBRE8M//+nhAAHy9ffpten1yN2bFkWAAAABABn/FqQr8ABpmbmuPFW3thAAAAGEGb80nhDyZTAhn//p4QABSPdN9FSs1+ggAAABhBmhRJ4Q8mUwIb//6nhAADY+wevZnwRrEAAAAfQZo2SeEPJlMFETw3//6nhAAHycXizFBiFav+vft2wQAAABABnlVqQr8ABnHajlf24j3AAAAAHEGaWEnhDyZTBTw3//6nhAAL66tmJ/q7e6n7YPkAAAAQAZ53akK/AAmu0Qm4z69XmQAAABxBmnpJ4Q8mUwU8M//+nhAARUQ502C9Edff0zjAAAAAEAGemWpCvwAO1zhr3mlZ88EAAAAbQZqbSeEPJlMCG//+p4QAG5pE/1W+qgx/4ndAAAAAGUGavEnhDyZTAhv//qeEACseif6kdGkNfcEAAAAYQZrdSeEPJlMCG//+p4QAK17qcf4fVtwjAAAAH0Ga4UnhDyZTAhv//qeEAD4A8TXGqJfon8+DykX8pgQAAAASQZ8fRRE8L/8AJbn7nB4mlu8wAAAADwGfPnRCvwAhtoxcB+XewQAAABABnyBqQr8AM47cJuM+vTvMAAAAG0GbJEmoQWiZTAhn//6eEAF9kMc/hz4gcP8JHwAAABJBn0JFESwr/wBPrIhdhvpeckgAAAAQAZ9jakK/AFHUaJkTSs3lQQAAABpBm2VJqEFsmUwIb//+p4QAZF1aOj7jZgr1sQAAABlBm4ZJ4QpSZTAhv/6nhABm3VpBCJ/ltvCBAAAAF0GbqUnhDomUwIZ//p4QAmpwjn6X9yXzAAAAD0Gfx0URPCv/AH8B/zTSoAAAAA8Bn+hqQr8AfdYBdZ6s9TcAAAAcQZvqSahBaJlMCG///qeEAPGcZ/qt9VBj/xBswQAAABlBmgtJ4QpSZTAhv/6nhAD3A8KNRUAPbZjQAAAAGUGaLEnhDomUwIb//qeEAPyDwp1nT7ra3oAAAAAwQZpOSeEPJlMFETw7//6plgKi5yD4hBt/+Ep8dMX/+ETYxf/4Sd1f435ClRGNPMVbAAAAEAGebWpCvwH5s7kr+2z5ekEAAAAWQZpySeEPJlMCHf/+qZYCY+GPyuCDgQAAAA5BnpBFETwv/wFv/a1HwAAAABABnq90Qr8B+bm3njtoPg+4AAAAEAGesWpCvwH5a13daUmGTMEAAAAdQZq1SahBaJlMCHf//qmWApCYcPikuC7B5/TQsoAAAAAPQZ7TRREsK/8B+SbhcH3AAAAADwGe9GpCvwHsaCJK/vpqQQAAAB1BmvlJqEFsmUwId//+qZYCY9mPtfHk8OhItEChZQAAABFBnxdFFSwv/wFwTVwE8ki8KQAAAA8BnzZ0Qr8B6+dAZJaovYEAAAAPAZ84akK/Aeu2FVeAH/IjAAAAHUGbO0moQWyZTBRMO//+qZYAfX2l/YsB0QLcYvrjAAAAEAGfWmpCvwDNkyTTfSQcU3AAAAASQZtfSeEKUmUwId/+qZYAAJWBAAAAE0GffUU0TC//AGSiW5TMfMRFWfMAAAAQAZ+cdEK/AIruO8rZQ9IhgAAAABABn55qQr8AirzRMiaVm3TAAAAAE0Gbg0moQWiZTAh3//6plgAAlYEAAAAMQZ+hRREsL/8AALKAAAAADwGfwHRCvwCK7jujtvhVUwAAAA8Bn8JqQr8AirzRBajy6j4AAAATQZvHSahBbJlMCHf//qmWAACVgQAAAAxBn+VFFSwv/wAAsoEAAAAPAZ4EdEK/AIruO6O2+FVTAAAADwGeBmpCvwCKvNEFqPLqPwAAABNBmgtJqEFsmUwId//+qZYAAJWAAAAADEGeKUUVLC//AACygAAAAA8Bnkh0Qr8Aiu47o7b4VVMAAAAPAZ5KakK/AIq80QWo8uo+AAAAE0GaT0moQWyZTAh3//6plgAAlYAAAAAMQZ5tRRUsL/8AALKBAAAADwGejHRCvwCK7jujtvhVUwAAAA8Bno5qQr8AirzRBajy6j8AAAASQZqTSahBbJlMCG///qeEAAEnAAAADEGesUUVLC//AACygAAAAA8BntB0Qr8Aiu47o7b4VVMAAAAPAZ7SakK/AIq80QWo8uo+AAAAGUGa1kmoQWyZTAhv//6nhACr4rSCET/LbSMAAAARQZ70RRUsK/8AiuxWCQlb7gcAAAAOAZ8VakK/AIrsmK4EmBgAAAAdQZsYSahBbJlMFEw3//6nhAEMHzNTZtxm91Pi1s0AAAAQAZ83akK/ANy7Utw2bUyzgQAAABFBmzxJ4QpSZTAhv/6nhAABJwAAAAxBn1pFNEwv/wAAsoEAAAAQAZ95dEK/AVroBz+tA5G+4AAAABABn3tqQr8BWo2u6yGHI33BAAAAHEGbfkmoQWiZTBTw3/6nhAHrvwPBm2ib2D9Xk7EAAAAQAZ+dakK/AWOwjyYHr2zpgAAAABhBm59J4QpSZTAhv/6nhAboAs2rqNPyaS8AAAAaQZuiSeEOiZTAhv/+p4QHsILNn+z6BuN6zqkAAAARQZ/ARRE8K/8CSK4NcepkZycAAAAOAZ/hakK/AkgMx4qqnJ0AAAAZQZvlSahBaJlMCG///qeEAfHonoK1mRzp4QAAABJBngNFESwr/wFjbAEApgHHzcEAAAAQAZ4kakK/AVqyITcZ9empeQAAABlBmiZJqEFsmUwIb//+p4QGKoY1OL458mk3AAAAHUGaSEnhClJlMFFSw3/+p4QGV32e98BLZBjs+RbRAAAAEAGeZ2pCvwIeR251TMT2YEAAAAAbQZppSeEOiZTAh3/+qZYCo8pIHD/G/IUwJjMgAAAAFkGajUnhDyZTAh3//qmWAOZ2l/ScekEAAAASQZ6rRRE8L/8BiBG3e7KZWY/IAAAADwGeynRCvwILmQmDZLuyZgAAABABnsxqQr8CCtfOdZ44Mm3BAAAAHEGa0UmoQWiZTAhv//6nhASSM1TWbXk6J/guLuEAAAAQQZ7vRREsL/8Bb/4a8iYz4QAAABABnw50Qr8B+iAOdsa6ZLZgAAAADwGfEGpCvwHsaCJK/vpqQAAAABJBmxVJqEFsmUwIb//+p4QAAScAAAARQZ8zRRUsL/8BcGusd5CYz4AAAAAQAZ9SdEK/Afm47ytjQLyXgAAAABABn1RqQr8B+PNEyJjWZX+BAAAAHEGbV0moQWyZTBRMN//+p4QEr7MfkOuYJomS5eAAAAAPAZ92akK/Aeu2FVeAH/IjAAAAHEGbeUnhClJlMFLDP/6eEAPL6+/psoXLrZq2HTEAAAAQAZ+YakK/AM2S38B9fwGYMAAAABhBm5pJ4Q6JlMCGf/6eEAJt8Q/tkMfWEWUAAAAZQZu7SeEPJlMCG//+p4QAZ32D/CcFuhJvQAAAABtBm9xJ4Q8mUwIb//6nhABDR8x5GUQJ3/RroIEAAAAdQZv+SeEPJlMFETw3//6nhABDR8x5mlSTXQn8QrkAAAAQAZ4dakK/ADdEyTTfSQch8AAAAB1BmgJJ4Q8mUwIZ//6eEAC6+3HzLK8To+7fD1N+SAAAABBBniBFETwv/wAcVPWQT1jhAAAADwGeX3RCvwAktoQGSXMggAAAABABnkFqQr8AJrsR5LmfJWuBAAAAGkGaQ0moQWiZTAhv//6nhAAw7q0ghE/y2/uAAAAAGUGaZEnhClJlMCG//qeEADE+wf4Tgt0JdMEAAAAnQZqHSeEOiZTAhv/+p4QAM77L6vgU19Qr8ClS2fgUzsDFxc63QzmBAAAAFEGepUURPCv/ACoWQ3y5QVfpN3Q3AAAAEAGexmpCvwAqFjy3DZtT6oEAAAAaQZrISahBaJlMCHf//qmWACgfIMz7xN92qVAAAAAZQZrsSeEKUmUwIb/+p4QAef2D/OW7ndcGUAAAABZBnwpFNEwv/wBJZ6Vyy42XfdL9xfjRAAAAEAGfKXRCvwBkrKu5DZUpEeAAAAAQAZ8rakK/AGIJkmm+kg40kAAAAChBmy9JqEFomUwIb//+p4QAVr26eZZXjDPwKZbOz4FClPs829XbTsfNAAAAEkGfTUURLCv/AEV2uDeGyzby9QAAAA8Bn25qQr8ARXYjyXM+SgMAAAAfQZtxSahBbJlMFEwz//6eEAFPr3Nb3Pmy2t1vdZPPgAAAABABn5BqQr8ARWT5zrQwvJzAAAAAGUGbkknhClJlMCG//qeEADY+wf4Tgt0JakEAAAAZQZuzSeEOiZTAhv/+p4QAIt8dPqONCQ5gQAAAAB1Bm9VJ4Q8mUwURPDf//qeEABbPdT9qvNqiMjIG0gAAABABn/RqQr8AEllcirwBQHiBAAAAG0Gb+UnhDyZTAhv//qeEAAl3x0+5kYWzFCOeTAAAABBBnhdFETwv/wAFroEFKG5pAAAADwGeNnRCvwAHmL8XAfm0wQAAABABnjhqQr8AB5gXnOtDDAnAAAAAGkGaOkmoQWiZTAhv//6nhAAGHdWkEIn+XFuBAAAAGUGaXUnhClJlMCG//qeEAAZF1aQQif5cVYAAAAARQZ57RTRMK/8AB5o6DMah4+EAAAAPAZ6cakK/AAeYImamgePhAAAAHUGagEmoQWiZTAhv//6nhAAOesBZtzXjp9qGlzSoAAAAE0GevkURLCv/AAvztwy5Y5Zs/kAAAAAQAZ7fakK/AAvztwm4z69VeQAAAB1BmsJJqEFsmUwUTDf//qeEABYcVsxP9Xb3U/a3yAAAABABnuFqQr8AEd2iE3GfXqVpAAAAHEGa5EnhClJlMFLDf/6nhAAWP3U/cyMLZihHNFQAAAAQAZ8DakK/ABHZPnOtDC+CQQAAABtBmwVJ4Q6JlMCG//6nhAAN37KwY/8uQW6FToEAAAAYQZsoSeEPJlMCGf/+nhAAIt8Q/tkMfWKLAAAAD0GfRkURPCv/AAdAH/OBYQAAAA4Bn2dqQr8AB0LAD47xiwAAABlBm2lJqEFomUwIb//+p4QABdfdTj/D6txrAAAAGkGbjEnhClJlMCGf/p4QABY/dNjLk2TkAeHBAAAAEkGfqkU0TCv/AASWUAQCmAd7wAAAAA4Bn8tqQr8ABJg0q6nVHQAAABlBm81JqEFomUwIZ//+nhAAIKcI5/DnN9iTAAAAGUGb7knhClJlMCG//qeEAA0tIn+q3zH4vmEAAAAcQZoQSeEOiZTBTRMN//6nhAANLaf+Y3XshPaq0wAAABABni9qQr8ACstfOdUzHBtAAAAAGUGaMUnhDyZTAhv//qeEABNUAWbbZ9nzicAAAAAjQZpUSeEPJlMCG//+p4QAL/uM1+IQA//hKljz//zVXoq6eakAAAASQZ5yRRE8K/8AJrtDgLljNfp/AAAADwGek2pCvwAmuxHkwPXuhwAAABxBmpZJqEFomUwU8N/+p4QAS0fM1Nm3Gb3U+LotAAAAEAGetWpCvwA8zPCHjQ1joYAAAAAcQZq4SeEKUmUwUsM//p4QAc71yN2OGlvr77bk4QAAABABntdqQr8AYh1TyYHr29SBAAAAHEGa2knhDomUwUTDP/6eEALlXua45/Nr6++213AAAAAQAZ75akK/AJrs8tw2bUz7gQAAABhBmvtJ4Q8mUwIZ//6eEAL3XuNC6b7rbJwAAAAYQZscSeEPJlMCGf/+nhAEkOEc/hzm+soPAAAAGEGbPUnhDyZTAhn//p4QBLBDj+eC/khlDQAAABhBm15J4Q8mUwIZ//6eEATQQ4/ngv5IZOwAAAAZQZt/SeEPJlMCG//+p4QCiKGNTygY+3TZgAAAABhBm4BJ4Q8mUwIb//6nhAKT2D17M+ALYqcAAAAbQZujSeEPJlMCG//+p4QLtsx+FbbcTQyE5qPgAAAAEkGfwUURPCv/ApGnXduqo8HqgQAAAA4Bn+JqQr8CkFbAAKuPVAAAABlBm+ZJqEFomUwIZ//+nhAEt+IedboGSGUNAAAAEkGeBEURLCv/APgDAIBTAOP2YQAAABABniVqQr8A8rPmN0OSDif5AAAAGkGaKUuoQhBbJEYIKAfyAf2HgCFf/jhAABFxAAAAJkGeR0UVLCv/Aq9j7UHE3arDSSblqoYOhEd+2LWsJmKYBEPwkb0zAAAAIwGeaGpCvwKvY+1BxN2qw0km5aqGDoP2kk8K0H6WwCC0uH6AAAALSG1vb3YAAABsbXZoZAAAAAAAAAAAAAAAAAAAA+gAAB+QAAEAAAEAAAAAAAAAAAAAAAABAAAAAAAAAAAAAAAAAAAAAQAAAAAAAAAAAAAAAAAAQAAAAAAAAAAAAAAAAAAAAAAAAAAAAAAAAAAAAAAAAAIAAApydHJhawAAAFx0a2hkAAAAAwAAAAAAAAAAAAAAAQAAAAAAAB+QAAAAAAAAAAAAAAAAAAAAAAABAAAAAAAAAAAAAAAAAAAAAQAAAAAAAAAAAAAAAAAAQAAAAAEQAAABEAAAAAAAJGVkdHMAAAAcZWxzdAAAAAAAAAABAAAfkAAABAAAAQAAAAAJ6m1kaWEAAAAgbWRoZAAAAAAAAAAAAAAAAAAAMgAAAZQAVcQAAAAAAC1oZGxyAAAAAAAAAAB2aWRlAAAAAAAAAAAAAAAAVmlkZW9IYW5kbGVyAAAACZVtaW5mAAAAFHZtaGQAAAABAAAAAAAAAAAAAAAkZGluZgAAABxkcmVmAAAAAAAAAAEAAAAMdXJsIAAAAAEAAAlVc3RibAAAAJVzdHNkAAAAAAAAAAEAAACFYXZjMQAAAAAAAAABAAAAAAAAAAAAAAAAAAAAAAEQARAASAAAAEgAAAAAAAAAAQAAAAAAAAAAAAAAAAAAAAAAAAAAAAAAAAAAAAAAAAAAABj//wAAAC9hdmNDAfQADf/hABdn9AANkZsoIhHQgAAAAwCAAAAZB4oUywEABWjr48RIAAAAGHN0dHMAAAAAAAAAAQAAAMoAAAIAAAAAFHN0c3MAAAAAAAAAAQAAAAEAAAUgY3R0cwAAAAAAAACiAAAABAAABAAAAAABAAAIAAAAAAIAAAIAAAAAAQAABgAAAAABAAACAAAAAAIAAAQAAAAAAQAABgAAAAABAAACAAAAAAQAAAQAAAAAAQAABgAAAAABAAACAAAAAAIAAAQAAAAAAQAABgAAAAABAAACAAAAAAEAAAYAAAAAAQAAAgAAAAABAAAGAAAAAAEAAAIAAAAAAwAABAAAAAABAAAKAAAAAAEAAAQAAAAAAQAAAAAAAAABAAACAAAAAAEAAAgAAAAAAgAAAgAAAAACAAAEAAAAAAEAAAgAAAAAAgAAAgAAAAADAAAEAAAAAAEAAAYAAAAAAQAAAgAAAAABAAAKAAAAAAEAAAQAAAAAAQAAAAAAAAABAAACAAAAAAEAAAgAAAAAAgAAAgAAAAABAAAKAAAAAAEAAAQAAAAAAQAAAAAAAAABAAACAAAAAAEAAAYAAAAAAQAAAgAAAAABAAAKAAAAAAEAAAQAAAAAAQAAAAAAAAABAAACAAAAAAEAAAoAAAAAAQAABAAAAAABAAAAAAAAAAEAAAIAAAAAAQAACgAAAAABAAAEAAAAAAEAAAAAAAAAAQAAAgAAAAABAAAKAAAAAAEAAAQAAAAAAQAAAAAAAAABAAACAAAAAAEAAAoAAAAAAQAABAAAAAABAAAAAAAAAAEAAAIAAAAAAQAACgAAAAABAAAEAAAAAAEAAAAAAAAAAQAAAgAAAAABAAAIAAAAAAIAAAIAAAAAAQAABgAAAAABAAACAAAAAAEAAAoAAAAAAQAABAAAAAABAAAAAAAAAAEAAAIAAAAAAQAABgAAAAABAAACAAAAAAEAAAQAAAAAAQAACAAAAAACAAACAAAAAAEAAAgAAAAAAgAAAgAAAAABAAAEAAAAAAEAAAYAAAAAAQAAAgAAAAABAAAEAAAAAAEAAAoAAAAAAQAABAAAAAABAAAAAAAAAAEAAAIAAAAAAQAACgAAAAABAAAEAAAAAAEAAAAAAAAAAQAAAgAAAAABAAAKAAAAAAEAAAQAAAAAAQAAAAAAAAABAAACAAAAAAEAAAYAAAAAAQAAAgAAAAABAAAGAAAAAAEAAAIAAAAAAwAABAAAAAABAAAGAAAAAAEAAAIAAAAAAQAACgAAAAABAAAEAAAAAAEAAAAAAAAAAQAAAgAAAAACAAAEAAAAAAEAAAgAAAAAAgAAAgAAAAABAAAEAAAAAAEAAAoAAAAAAQAABAAAAAABAAAAAAAAAAEAAAIAAAAAAQAACAAAAAACAAACAAAAAAEAAAYAAAAAAQAAAgAAAAACAAAEAAAAAAEAAAYAAAAAAQAAAgAAAAABAAAKAAAAAAEAAAQAAAAAAQAAAAAAAAABAAACAAAAAAEAAAQAAAAAAQAACAAAAAACAAACAAAAAAEAAAgAAAAAAgAAAgAAAAABAAAGAAAAAAEAAAIAAAAAAQAABgAAAAABAAACAAAAAAEAAAQAAAAAAQAACAAAAAACAAACAAAAAAEAAAQAAAAAAQAACAAAAAACAAACAAAAAAIAAAQAAAAAAQAABgAAAAABAAACAAAAAAEAAAQAAAAAAQAACAAAAAACAAACAAAAAAEAAAYAAAAAAQAAAgAAAAABAAAGAAAAAAEAAAIAAAAAAQAABgAAAAABAAACAAAAAAYAAAQAAAAAAQAACAAAAAACAAACAAAAAAEAAAgAAAAAAgAAAgAAAAABAAAIAAAAAAIAAAIAAAAAHHN0c2MAAAAAAAAAAQAAAAEAAADKAAAAAQAAAzxzdHN6AAAAAAAAAAAAAADKAAAFpAAAABkAAAAcAAAAHQAAAB0AAAAWAAAAEgAAAB8AAAAUAAAAHAAAABwAAAAiAAAAFAAAABwAAAAcAAAAHAAAAB0AAAAiAAAAFAAAABwAAAAcAAAAIwAAABQAAAAgAAAAFAAAACAAAAAUAAAAHwAAAB0AAAAcAAAAIwAAABYAAAATAAAAFAAAAB8AAAAWAAAAFAAAAB4AAAAdAAAAGwAAABMAAAATAAAAIAAAAB0AAAAdAAAANAAAABQAAAAaAAAAEgAAABQAAAAUAAAAIQAAABMAAAATAAAAIQAAABUAAAATAAAAEwAAACEAAAAUAAAAFgAAABcAAAAUAAAAFAAAABcAAAAQAAAAEwAAABMAAAAXAAAAEAAAABMAAAATAAAAFwAAABAAAAATAAAAEwAAABcAAAAQAAAAEwAAABMAAAAWAAAAEAAAABMAAAATAAAAHQAAABUAAAASAAAAIQAAABQAAAAVAAAAEAAAABQAAAAUAAAAIAAAABQAAAAcAAAAHgAAABUAAAASAAAAHQAAABYAAAAUAAAAHQAAACEAAAAUAAAAHwAAABoAAAAWAAAAEwAAABQAAAAgAAAAFAAAABQAAAATAAAAFgAAABUAAAAUAAAAFAAAACAAAAATAAAAIAAAABQAAAAcAAAAHQAAAB8AAAAhAAAAFAAAACEAAAAUAAAAEwAAABQAAAAeAAAAHQAAACsAAAAYAAAAFAAAAB4AAAAdAAAAGgAAABQAAAAUAAAALAAAABYAAAATAAAAIwAAABQAAAAdAAAAHQAAACEAAAAUAAAAHwAAABQAAAATAAAAFAAAAB4AAAAdAAAAFQAAABMAAAAhAAAAFwAAABQAAAAhAAAAFAAAACAAAAAUAAAAHwAAABwAAAATAAAAEgAAAB0AAAAeAAAAFgAAABIAAAAdAAAAHQAAACAAAAAUAAAAHQAAACcAAAAWAAAAEwAAACAAAAAUAAAAIAAAABQAAAAgAAAAFAAAABwAAAAcAAAAHAAAABwAAAAdAAAAHAAAAB8AAAAWAAAAEgAAAB0AAAAWAAAAFAAAAB4AAAAqAAAAJwAAABRzdGNvAAAAAAAAAAEAAAAwAAAAYnVkdGEAAABabWV0YQAAAAAAAAAhaGRscgAAAAAAAAAAbWRpcmFwcGwAAAAAAAAAAAAAAAAtaWxzdAAAACWpdG9vAAAAHWRhdGEAAAABAAAAAExhdmY1OC4yMC4xMDA=\" type=\"video/mp4\" />\n",
       "             </video>"
      ],
      "text/plain": [
       "<IPython.core.display.HTML object>"
      ]
     },
     "execution_count": 54,
     "metadata": {},
     "output_type": "execute_result"
    }
   ],
   "source": [
    "# Evaluation\n",
    "test(agent,env,epochs_test,prefix='cnn_test_explore')\n",
    "HTML(display_videos('cnn_test_explore10.mp4'))"
   ]
  },
  {
   "cell_type": "markdown",
   "metadata": {},
   "source": [
    "> The results obtained may be lower than the ones obtained before, but it's only due to the malus we remove each time we get in an empty cell that we have already been to. \n",
    "\n",
    "> If ever we add all the points removed (concerning the malus) during the game, we would obtain much better results. Indeed we can see that on the videos. The mouse explores all the fields, going after all cheese it can eat."
   ]
  },
  {
   "cell_type": "markdown",
   "metadata": {},
   "source": [
    "***\n",
    "***\n",
    "__BONUS question__ Use the expert DQN from the previous question to generate some winning games. Train a model that mimicks its behavior. Compare the performances."
   ]
  },
  {
   "cell_type": "markdown",
   "metadata": {},
   "source": []
  },
  {
   "cell_type": "markdown",
   "metadata": {},
   "source": [
    "***"
   ]
  }
 ],
 "metadata": {
  "kernelspec": {
   "display_name": "Python 3",
   "language": "python",
   "name": "python3"
  },
  "language_info": {
   "codemirror_mode": {
    "name": "ipython",
    "version": 3
   },
   "file_extension": ".py",
   "mimetype": "text/x-python",
   "name": "python",
   "nbconvert_exporter": "python",
   "pygments_lexer": "ipython3",
   "version": "3.6.7"
  }
 },
 "nbformat": 4,
 "nbformat_minor": 2
}
